{
 "cells": [
  {
   "cell_type": "code",
   "execution_count": null,
   "metadata": {},
   "outputs": [],
   "source": [
    "# store start time to get execution time of entire script\n",
    "import time\n",
    "start_time = time.time()"
   ]
  },
  {
   "cell_type": "code",
   "execution_count": null,
   "metadata": {},
   "outputs": [],
   "source": [
    "# helper functions for displaying table data\n",
    "\n",
    "import numpy as np\n",
    "from IPython.display import display_html\n",
    "\n",
    "# n is the number of columns to display data in\n",
    "def display_side_by_side(series_obj, n):\n",
    "    df = pd.DataFrame(series_obj)\n",
    "    partition = int(round(len(df) / n))\n",
    "    lower_bound = 0\n",
    "    upper_bound = partition\n",
    "    args = []\n",
    "    for i in range(n):\n",
    "        args.append(df[lower_bound:upper_bound])\n",
    "        lower_bound += partition\n",
    "        upper_bound += partition\n",
    "    helper(args)\n",
    "\n",
    "def helper(args):\n",
    "    html_str=''\n",
    "    for df in args:\n",
    "        html_str+=df.to_html()\n",
    "    display_html(html_str.replace('table','table style=\"display:inline\"'),raw=True)"
   ]
  },
  {
   "cell_type": "code",
   "execution_count": null,
   "metadata": {},
   "outputs": [],
   "source": [
    "# helper function for plotting out ground truth curves\n",
    "\n",
    "import matplotlib.pyplot as plt\n",
    "plt.rcParams[\"font.weight\"] = \"bold\"\n",
    "\n",
    "def get_ground_truth(data):\n",
    "    relapsed = data[data.Illicit_Cens == 1]\n",
    "    counts = relapsed['Illicit_Days'].value_counts()\n",
    "    counts = counts.to_dict()\n",
    "    temp = [len(data)] * 365\n",
    "    labels = list(range(365))\n",
    "    for i in range(365):\n",
    "        labels[i] += 1\n",
    "    total = 0\n",
    "    errors = []\n",
    "    for i in range(365):\n",
    "        try:\n",
    "            temp[i] = temp[i] - counts[i+1] - total\n",
    "            total = total + counts[i+1]\n",
    "        except KeyError:\n",
    "            errors.append(i)\n",
    "\n",
    "    for ele in sorted(errors, reverse = False):\n",
    "        if ele != 0:\n",
    "            temp[ele] = temp[ele-1]\n",
    "        else:\n",
    "             temp[0] = len(data)\n",
    "    temp = [x / len(data) for x in temp]\n",
    "    return labels, temp"
   ]
  },
  {
   "cell_type": "code",
   "execution_count": null,
   "metadata": {},
   "outputs": [],
   "source": [
    "from sklearn.model_selection import cross_validate\n",
    "from sksurv.ensemble import GradientBoostingSurvivalAnalysis\n",
    "from sksurv.ensemble import RandomSurvivalForest\n",
    "from sksurv.linear_model import CoxnetSurvivalAnalysis\n",
    "\n",
    "def run_models(X, y, label):\n",
    "    global rnd_seed\n",
    "    rsf = RandomSurvivalForest()\n",
    "    \n",
    "    scores = cross_validate(rsf, X, y, cv=5)\n",
    "    rsf_score = scores['test_score'].mean()\n",
    "    print('RF score:', rsf_score)\n",
    "    \n",
    "    rsf = RandomSurvivalForest()\n",
    "    rsf.fit(X, y)\n",
    "    \n",
    "    # l1_ratio = 1 adjusts model to implement LASSO method for penalties\n",
    "    rcr = CoxnetSurvivalAnalysis(l1_ratio=1)\n",
    "    lasso_X = get_lasso_features(X)\n",
    "    \n",
    "    scores = cross_validate(rcr, lasso_X, y, cv=5)\n",
    "    rcr_score = scores['test_score'].mean()\n",
    "    print('Lasso score:', rcr_score)\n",
    "    \n",
    "    # fit_baseline_model = True allows us to create survival/hazard plots after model is fit\n",
    "    rcr = CoxnetSurvivalAnalysis(fit_baseline_model=True, l1_ratio=1)\n",
    "    rcr.fit(lasso_X, y)\n",
    "    \n",
    "    # concordance index\n",
    "    scores = {'Model': ['Random Forest','Lasso','Dataset Size'], \n",
    "              label: [rsf_score,rcr_score,int(X.shape[0])]}\n",
    "    concordance = pd.DataFrame(data=scores)\n",
    "    \n",
    "    # return scores and models\n",
    "    return concordance, rsf, rcr"
   ]
  },
  {
   "cell_type": "code",
   "execution_count": null,
   "metadata": {},
   "outputs": [],
   "source": [
    "def get_survival_graph(rsf, rcr, X, Y, label, filename):\n",
    "    pred_surv_rsf = rsf.predict_survival_function(X)\n",
    "    \n",
    "    lasso_X = get_lasso_features(X)    \n",
    "    pred_surv_rcr = rcr.predict_survival_function(lasso_X)\n",
    "    \n",
    "    # display survival plot\n",
    "    plt.suptitle(label)\n",
    "    plt.plot(np.mean([person for person in pred_surv_rsf], axis=0), label='RF')\n",
    "    plt.plot(np.mean([person.y for person in pred_surv_rcr], axis=0), label='Lasso')\n",
    "    labels, temp = get_ground_truth(Y)\n",
    "    plt.plot(labels, temp, label='Ground Truth')\n",
    "    plt.legend()\n",
    "    plt.xlim(0, 365)\n",
    "    plt.xticks(np.arange(0, 365, step=50))\n",
    "    plt.yticks(np.arange(0, 1.1, step=0.1))\n",
    "    plt.savefig(filename)\n",
    "        \n",
    "    plt.show()"
   ]
  },
  {
   "cell_type": "code",
   "execution_count": null,
   "metadata": {},
   "outputs": [],
   "source": [
    "from tqdm.notebook import tqdm # used to show progress bar\n",
    "\n",
    "def get_feature_importance(X, y, rsf, rcr, label):\n",
    "    # feature importances from Random Forest\n",
    "    feature_importance_rf = pd.DataFrame({'Feature':list(X.columns),})\n",
    "    feature_importance_rf[label] = 0\n",
    "    \n",
    "    scores = cross_validate(rsf, X, y, cv=5)\n",
    "    reference = scores['test_score'].mean()\n",
    "    \n",
    "    for i,row in tqdm(feature_importance_rf.iterrows(), total=feature_importance_rf.shape[0]):\n",
    "        feat = row['Feature']\n",
    "        temp_data = X.copy()\n",
    "        temp_data[feat] = np.random.permutation(temp_data[feat].values)        \n",
    "        temp_scores = cross_validate(rsf, temp_data, y, cv=5)\n",
    "        temp_score = temp_scores['test_score'].mean()\n",
    "        percent_change = (reference - temp_score) / reference * 100 # percent change\n",
    "        if percent_change < 0:\n",
    "            percent_change = 0 # removing feature helped model, should not be reflected in feature importance\n",
    "        feature_importance_rf.iloc[i, feature_importance_rf.columns.get_loc(label)] = percent_change\n",
    "            \n",
    "    feature_importance_rf = feature_importance_rf.nlargest(10,[label]) # keep top 10 features\n",
    "\n",
    "    # feature importances from Lasso\n",
    "    lasso_X = get_lasso_features(X)\n",
    "    feature_importance_lasso = pd.DataFrame({'Feature':list(lasso_X.columns), \n",
    "                                                  label:np.average(rcr.coef_, weights=rcr.alphas_, axis = 1),})\n",
    "    # remove features that were zero-ed out by lasso\n",
    "    feature_importance_lasso = feature_importance_lasso[feature_importance_lasso[label] != 0] \n",
    "    # convert regression coefficients to hazard ratios\n",
    "    feature_importance_lasso[label] = np.exp(feature_importance_lasso[label])\n",
    "    # rank by magnitude of deviation from 1\n",
    "    feature_importance_lasso[label + '_adjusted'] = np.absolute(feature_importance_lasso[label]-1)\n",
    "    feature_importance_lasso = feature_importance_lasso.nlargest(10,[label + '_adjusted']) # keep top 10 features\n",
    "    \n",
    "    return feature_importance_rf, feature_importance_lasso"
   ]
  },
  {
   "cell_type": "code",
   "execution_count": null,
   "metadata": {},
   "outputs": [],
   "source": [
    "def get_lasso_features(X):\n",
    "    # one-hot encode all variables (except primsev) to get hazards across groups, drop reference group\n",
    "    features_to_ignore = ['female','nonwhite','unemplmt_cd','primsev_alcohol','primsev_amphetamines',\n",
    "                          'primsev_cocaine','primsev_marijuana','primsev_opioids','primsev_other']\n",
    "    lasso_X = X.copy()\n",
    "    for col in lasso_X.columns:\n",
    "        if col not in features_to_ignore:\n",
    "            one_hot = pd.get_dummies(lasso_X[col], prefix=col)\n",
    "            one_hot = one_hot.loc[:, ~one_hot.columns.str.endswith('1')] # drop group and use as reference\n",
    "            lasso_X = lasso_X.drop(col,axis = 1)\n",
    "            lasso_X = lasso_X.join(one_hot)\n",
    "    #print(lasso_X.columns)\n",
    "    return lasso_X"
   ]
  },
  {
   "cell_type": "markdown",
   "metadata": {},
   "source": [
    "Survival Analysis by Severity"
   ]
  },
  {
   "cell_type": "code",
   "execution_count": null,
   "metadata": {
    "scrolled": true
   },
   "outputs": [],
   "source": [
    "import pandas as pd\n",
    "pd.set_option('display.max_rows', 500)\n",
    "pd.set_option('display.max_columns', 500)\n",
    "import csv\n",
    "\n",
    "df = pd.read_csv('../data/data_superset.csv')\n",
    "df.head()"
   ]
  },
  {
   "cell_type": "code",
   "execution_count": null,
   "metadata": {},
   "outputs": [],
   "source": [
    "rnd_seed = 2017\n",
    "np.random.seed(rnd_seed) # set random seed value to get reproducible results"
   ]
  },
  {
   "cell_type": "code",
   "execution_count": null,
   "metadata": {},
   "outputs": [],
   "source": [
    "# drop unnecessary columns\n",
    "cols_to_drop = ['Address','lat','lng','xobsyr_0','Unnamed: 0','Unnamed: 0.1','Unnamed: 0.1.1',\n",
    "                'ID','State','City','agyaddr','state_name','gran','county_FIPS','block_FIPS',\n",
    "                'point','closest']\n",
    "\n",
    "df.drop(columns=cols_to_drop, inplace=True)\n",
    "df.dropna(inplace=True) # drops any remaining rows with null values\n",
    "\n",
    "# uncomment to get CONTROL statistics\n",
    "#cols_to_drop = ['pop_deng','%_dropoutg','%_unemployedg','%_public_assistanceg','%_povertyg','murder_numg']\n",
    "#df.drop(columns=cols_to_drop, inplace=True)\n",
    "\n",
    "df = df.astype(int)\n",
    "df = df.sample(frac=1).reset_index(drop=True) # shuffle rows\n",
    "df.shape"
   ]
  },
  {
   "cell_type": "code",
   "execution_count": null,
   "metadata": {},
   "outputs": [],
   "source": [
    "df[\"SUDSy_0_cd\"].value_counts()"
   ]
  },
  {
   "cell_type": "code",
   "execution_count": null,
   "metadata": {},
   "outputs": [],
   "source": [
    "df.to_csv('../data/data_final.csv')\n",
    "df.head()"
   ]
  },
  {
   "cell_type": "markdown",
   "metadata": {},
   "source": [
    "Full Population Survival Analysis"
   ]
  },
  {
   "cell_type": "code",
   "execution_count": null,
   "metadata": {},
   "outputs": [],
   "source": [
    "from sklearn.model_selection import train_test_split\n",
    "from sksurv.util import Surv\n",
    "\n",
    "predictor_var = 'Illicit_Days'\n",
    "censoring_var = 'Illicit_Cens'\n",
    "\n",
    "X = df.copy()\n",
    "Y = X[[censoring_var, predictor_var]]\n",
    "X.drop(columns=[censoring_var, predictor_var], inplace=True)\n",
    "y = Surv.from_arrays(Y[censoring_var], Y[predictor_var]) # structured array to ensure correct censoring\n",
    "\n",
    "print(X.shape, y.shape)"
   ]
  },
  {
   "cell_type": "code",
   "execution_count": null,
   "metadata": {},
   "outputs": [],
   "source": [
    "%%time\n",
    "full_concordance, rsf, rcr = run_models(X, y, 'ALL')"
   ]
  },
  {
   "cell_type": "code",
   "execution_count": null,
   "metadata": {},
   "outputs": [],
   "source": [
    "get_survival_graph(rsf, rcr, X, Y, 'Survival: All Severity Levels','../graphs/survival_all.png')"
   ]
  },
  {
   "cell_type": "markdown",
   "metadata": {},
   "source": [
    "Subclinical Severity Survival Analysis"
   ]
  },
  {
   "cell_type": "code",
   "execution_count": null,
   "metadata": {},
   "outputs": [],
   "source": [
    "X = df[df.SUDSy_0_cd == 1]\n",
    "Y = X[[censoring_var, predictor_var]]\n",
    "X.drop(columns=[censoring_var, predictor_var, 'SUDSy_0_cd'], inplace=True)\n",
    "\n",
    "y = Surv.from_arrays(Y[censoring_var], Y[predictor_var]) # structured array to ensure correct censoring\n",
    "\n",
    "print(X.shape, y.shape)"
   ]
  },
  {
   "cell_type": "code",
   "execution_count": null,
   "metadata": {},
   "outputs": [],
   "source": [
    "%%time\n",
    "subclinical_concordance, rsf, rcr = run_models(X, y, 'SUB')"
   ]
  },
  {
   "cell_type": "code",
   "execution_count": null,
   "metadata": {},
   "outputs": [],
   "source": [
    "get_survival_graph(rsf, rcr, X, Y, 'Survival: Subclinical Severity', '../graphs/survival_subclinical.png')"
   ]
  },
  {
   "cell_type": "code",
   "execution_count": null,
   "metadata": {},
   "outputs": [],
   "source": [
    "%%time\n",
    "subclinical_feature_importance_rf, subclinical_feature_importance_lasso = \\\n",
    "                                        get_feature_importance(X, y, rsf, rcr, 'SUB')"
   ]
  },
  {
   "cell_type": "markdown",
   "metadata": {},
   "source": [
    "Mild/Moderate Severity Survival Analysis"
   ]
  },
  {
   "cell_type": "code",
   "execution_count": null,
   "metadata": {},
   "outputs": [],
   "source": [
    "X = df[df.SUDSy_0_cd == 2]\n",
    "Y = X[[censoring_var, predictor_var]]\n",
    "X.drop(columns=[censoring_var, predictor_var, 'SUDSy_0_cd'], inplace=True)\n",
    "\n",
    "y = Surv.from_arrays(Y[censoring_var], Y[predictor_var]) # structured array to ensure correct censoring\n",
    "\n",
    "print(X.shape, y.shape)"
   ]
  },
  {
   "cell_type": "code",
   "execution_count": null,
   "metadata": {},
   "outputs": [],
   "source": [
    "%%time\n",
    "mild_concordance, rsf, rcr = run_models(X, y, 'MILD')"
   ]
  },
  {
   "cell_type": "code",
   "execution_count": null,
   "metadata": {},
   "outputs": [],
   "source": [
    "get_survival_graph(rsf, rcr, X, Y, 'Survival: Mild/Moderate', '../graphs/survival_mild.png')"
   ]
  },
  {
   "cell_type": "code",
   "execution_count": null,
   "metadata": {},
   "outputs": [],
   "source": [
    "%%time\n",
    "mild_feature_importance_rf, mild_feature_importance_lasso = get_feature_importance(X, y, rsf, rcr, 'MILD')"
   ]
  },
  {
   "cell_type": "markdown",
   "metadata": {},
   "source": [
    "Severe Severity Survival Analysis"
   ]
  },
  {
   "cell_type": "code",
   "execution_count": null,
   "metadata": {},
   "outputs": [],
   "source": [
    "X = df[df.SUDSy_0_cd == 3]\n",
    "Y = X[[censoring_var, predictor_var]]\n",
    "X.drop(columns=[censoring_var, predictor_var, 'SUDSy_0_cd'], inplace=True)\n",
    "\n",
    "y = Surv.from_arrays(Y[censoring_var], Y[predictor_var]) # structured array to ensure correct censoring\n",
    "\n",
    "print(X.shape, y.shape)"
   ]
  },
  {
   "cell_type": "code",
   "execution_count": null,
   "metadata": {},
   "outputs": [],
   "source": [
    "%%time\n",
    "severe_concordance, rsf, rcr = run_models(X, y, 'SEVERE')"
   ]
  },
  {
   "cell_type": "code",
   "execution_count": null,
   "metadata": {},
   "outputs": [],
   "source": [
    "get_survival_graph(rsf, rcr, X, Y, 'Survival: Severe', '../graphs/survival_severe.png')"
   ]
  },
  {
   "cell_type": "code",
   "execution_count": null,
   "metadata": {},
   "outputs": [],
   "source": [
    "%%time\n",
    "severe_feature_importance_rf, severe_feature_importance_lasso = get_feature_importance(X, y, rsf, rcr, 'SEVERE')"
   ]
  },
  {
   "cell_type": "markdown",
   "metadata": {},
   "source": [
    "Overall Statistics"
   ]
  },
  {
   "cell_type": "code",
   "execution_count": null,
   "metadata": {},
   "outputs": [],
   "source": [
    "overall_concordance = pd.concat([subclinical_concordance, mild_concordance['MILD'], severe_concordance['SEVERE'],  \n",
    "                                 full_concordance['ALL']], axis=1)\n",
    "pd.DataFrame(data=overall_concordance).round(4)"
   ]
  },
  {
   "cell_type": "code",
   "execution_count": null,
   "metadata": {},
   "outputs": [],
   "source": [
    "overall_feature_importance_lasso = pd.merge(subclinical_feature_importance_lasso, \\\n",
    "                                            mild_feature_importance_lasso, on='Feature', how='outer')\n",
    "overall_feature_importance_lasso = pd.merge(overall_feature_importance_lasso, \\\n",
    "                                            severe_feature_importance_lasso, on='Feature', how='outer')\n",
    "overall_feature_importance_lasso.fillna(0, inplace=True)\n",
    "display_side_by_side(overall_feature_importance_lasso, 2)"
   ]
  },
  {
   "cell_type": "code",
   "execution_count": null,
   "metadata": {},
   "outputs": [],
   "source": [
    "haz_df = pd.DataFrame({'SUB': overall_feature_importance_lasso['SUB'].tolist(),\n",
    "                   'MILD': overall_feature_importance_lasso['MILD'].tolist(),\n",
    "                   'SEVERE': overall_feature_importance_lasso['SEVERE'].tolist()},\n",
    "                  index=overall_feature_importance_lasso['Feature'].tolist())\n",
    "haz_df = haz_df.replace(1, 0)\n",
    "haz_df.sort_values(by=['SUB','MILD','SEVERE'], ascending=False, inplace=True)\n",
    "ax = haz_df.plot.barh(rot=50, figsize=(12, 12))\n",
    "ax.set_xlim([0.5,1.5])\n",
    "ax.grid()\n",
    "ax.set_title('Hazards From Lasso Model')\n",
    "fig = ax.get_figure()\n",
    "\n",
    "fig.savefig('../graphs/hazards_lasso.png', bbox_inches='tight')"
   ]
  },
  {
   "cell_type": "code",
   "execution_count": null,
   "metadata": {},
   "outputs": [],
   "source": [
    "haz_sub = pd.DataFrame({'SUB': overall_feature_importance_lasso['SUB'].tolist()},\n",
    "                  index=overall_feature_importance_lasso['Feature'].tolist())\n",
    "haz_sub = haz_sub[haz_sub.SUB != 0]\n",
    "haz_sub.sort_values(by=['SUB'], ascending=False, inplace=True)\n",
    "\n",
    "ax = haz_sub.plot.barh(rot=50, figsize=(12, 12), color='blue')\n",
    "ax.set_xlim([0.5,1.5])\n",
    "ax.grid()\n",
    "ax.set_title('Hazards From Lasso Model')\n",
    "fig = ax.get_figure()\n",
    "\n",
    "fig.savefig('../graphs/hazards_lasso_sub.png', bbox_inches='tight')"
   ]
  },
  {
   "cell_type": "code",
   "execution_count": null,
   "metadata": {},
   "outputs": [],
   "source": [
    "haz_mild = pd.DataFrame({'MILD': overall_feature_importance_lasso['MILD'].tolist()},\n",
    "                  index=overall_feature_importance_lasso['Feature'].tolist())\n",
    "haz_mild = haz_mild[haz_mild.MILD != 0]\n",
    "haz_mild.sort_values(by=['MILD'], ascending=False, inplace=True)\n",
    "\n",
    "ax = haz_mild.plot.barh(rot=50, figsize=(12, 12), color='orange')\n",
    "ax.set_xlim([0.5,1.5])\n",
    "ax.grid()\n",
    "ax.set_title('Hazards From Lasso Model')\n",
    "fig = ax.get_figure()\n",
    "\n",
    "fig.savefig('../graphs/hazards_lasso_mild.png', bbox_inches='tight')"
   ]
  },
  {
   "cell_type": "code",
   "execution_count": null,
   "metadata": {},
   "outputs": [],
   "source": [
    "haz_severe = pd.DataFrame({'SEVERE': overall_feature_importance_lasso['SEVERE'].tolist()},\n",
    "                  index=overall_feature_importance_lasso['Feature'].tolist())\n",
    "haz_severe = haz_severe[haz_severe.SEVERE != 0]\n",
    "haz_severe.sort_values(by=['SEVERE'], ascending=False, inplace=True)\n",
    "\n",
    "ax = haz_severe.plot.barh(rot=50, figsize=(12, 12), color='green')\n",
    "ax.set_xlim([0.5,1.5])\n",
    "ax.grid()\n",
    "ax.set_title('Hazards From Lasso Model')\n",
    "fig = ax.get_figure()\n",
    "\n",
    "fig.savefig('../graphs/hazards_lasso_severe.png', bbox_inches='tight')"
   ]
  },
  {
   "cell_type": "code",
   "execution_count": null,
   "metadata": {},
   "outputs": [],
   "source": [
    "overall_feature_importance_rf = pd.merge(subclinical_feature_importance_rf, mild_feature_importance_rf, on='Feature', how='outer')\n",
    "overall_feature_importance_rf = pd.merge(overall_feature_importance_rf, severe_feature_importance_rf, on='Feature', how='outer')\n",
    "overall_feature_importance_rf.fillna(0, inplace=True)\n",
    "display_side_by_side(overall_feature_importance_rf, 4)"
   ]
  },
  {
   "cell_type": "code",
   "execution_count": null,
   "metadata": {},
   "outputs": [],
   "source": [
    "# feature importance for rf across all ages\n",
    "feature_importance = pd.DataFrame({'SUB': overall_feature_importance_rf['SUB'].tolist(),\n",
    "                   'MILD': overall_feature_importance_rf['MILD'].tolist(),\n",
    "                   'SEVERE': overall_feature_importance_rf['SEVERE'].tolist()},\n",
    "                  index=overall_feature_importance_rf['Feature'].tolist())\n",
    "# John asked to sort this graph by MILD\n",
    "feature_importance.sort_values(by=['SUB','MILD','SEVERE'], ascending=False, inplace=True)\n",
    "ax = feature_importance.plot.barh(rot=50, figsize=(12, 12))\n",
    "ax.grid()\n",
    "ax.set_title('Feature Importance: RF')\n",
    "fig = ax.get_figure()\n",
    "    \n",
    "fig.savefig('../graphs/feature_importance.png', bbox_inches='tight')"
   ]
  },
  {
   "cell_type": "code",
   "execution_count": null,
   "metadata": {},
   "outputs": [],
   "source": [
    "# feature importance for rf across all ages\n",
    "feature_importance_sub = pd.DataFrame({'SUB': overall_feature_importance_rf['SUB'].tolist()},\n",
    "                  index=overall_feature_importance_rf['Feature'].tolist())\n",
    "feature_importance_sub = feature_importance_sub[feature_importance_sub.SUB != 0]\n",
    "# John asked to sort this graph by MILD\n",
    "feature_importance_sub.sort_values(by=['SUB'], ascending=False, inplace=True)\n",
    "ax = feature_importance_sub.plot.barh(rot=50, figsize=(12, 12), color='blue')\n",
    "ax.grid()\n",
    "ax.set_title('Feature Importance: RF')\n",
    "fig = ax.get_figure()\n",
    "    \n",
    "fig.savefig('../graphs/feature_importance_sub.png', bbox_inches='tight')"
   ]
  },
  {
   "cell_type": "code",
   "execution_count": null,
   "metadata": {},
   "outputs": [],
   "source": [
    "# feature importance for rf across all ages\n",
    "feature_importance_mild = pd.DataFrame({'MILD': overall_feature_importance_rf['MILD'].tolist()},\n",
    "                  index=overall_feature_importance_rf['Feature'].tolist())\n",
    "feature_importance_mild = feature_importance_mild[feature_importance_mild.MILD != 0]\n",
    "# John asked to sort this graph by MILD\n",
    "feature_importance_mild.sort_values(by=['MILD'], ascending=False, inplace=True)\n",
    "ax = feature_importance_mild.plot.barh(rot=50, figsize=(12, 12), color='orange')\n",
    "ax.grid()\n",
    "ax.set_title('Feature Importance: RF')\n",
    "fig = ax.get_figure()\n",
    "    \n",
    "fig.savefig('../graphs/feature_importance_mild.png', bbox_inches='tight')"
   ]
  },
  {
   "cell_type": "code",
   "execution_count": null,
   "metadata": {},
   "outputs": [],
   "source": [
    "# feature importance for rf across all ages\n",
    "feature_importance_severe = pd.DataFrame({'SEVERE': overall_feature_importance_rf['SEVERE'].tolist()},\n",
    "                  index=overall_feature_importance_rf['Feature'].tolist())\n",
    "feature_importance_severe = feature_importance_severe[feature_importance_severe.SEVERE != 0]\n",
    "# John asked to sort this graph by MILD\n",
    "feature_importance_severe.sort_values(by=['SEVERE'], ascending=False, inplace=True)\n",
    "ax = feature_importance_severe.plot.barh(rot=50, figsize=(12, 12), color='green')\n",
    "ax.grid()\n",
    "ax.set_title('Feature Importance: RF')\n",
    "fig = ax.get_figure()\n",
    "    \n",
    "fig.savefig('../graphs/feature_importance_severe.png', bbox_inches='tight')"
   ]
  },
  {
   "cell_type": "code",
   "execution_count": null,
   "metadata": {},
   "outputs": [],
   "source": [
    "# top features in both models across all severity groups\n",
    "rf = overall_feature_importance_rf['Feature'].tolist()\n",
    "lasso = overall_feature_importance_lasso['Feature'].tolist()\n",
    "\n",
    "common_features = []\n",
    "lasso_common_features = []\n",
    "\n",
    "for elem_rf in rf:\n",
    "    for elem_lasso in lasso:\n",
    "        if elem_lasso.startswith(elem_rf):\n",
    "            common_features.append(elem_rf)\n",
    "            lasso_common_features.append(elem_lasso)\n",
    "\n",
    "common_features = list(set(common_features))\n",
    "lasso_common_features = list(set(lasso_common_features))"
   ]
  },
  {
   "cell_type": "code",
   "execution_count": null,
   "metadata": {},
   "outputs": [],
   "source": [
    "def analyze_common_features(subgroup):\n",
    "    global common_features\n",
    "    global lasso_common_features\n",
    "    \n",
    "    data = []\n",
    "\n",
    "    for feat in common_features:\n",
    "        temp = []\n",
    "        temp.append(feat)\n",
    "        temp.append(float(overall_feature_importance_rf.loc[overall_feature_importance_rf['Feature'] == feat, subgroup]))\n",
    "        for i,row in overall_feature_importance_lasso.iterrows():\n",
    "            if row['Feature'].startswith(feat):\n",
    "                temp.append((row['Feature'], row[subgroup]))\n",
    "        data.append(temp)\n",
    "\n",
    "    df = pd.DataFrame(data=data, columns=['Feature', 'RF', 'Lasso', 'Lasso_'])\n",
    "    df = df.fillna(0)\n",
    "    \n",
    "    \"\"\"for i,row in df.iterrows():\n",
    "        if row['Lasso'][1] == 0:\n",
    "            df.iloc[i, df.columns.get_loc('Lasso')] = np.nan\n",
    "    df = df.dropna()\n",
    "    \n",
    "    \n",
    "    df = df[df.RF != 0]\"\"\"\n",
    "    return df"
   ]
  },
  {
   "cell_type": "code",
   "execution_count": null,
   "metadata": {},
   "outputs": [],
   "source": [
    "sub_cmn_feat = analyze_common_features('SUB')\n",
    "sub_cmn_feat"
   ]
  },
  {
   "cell_type": "code",
   "execution_count": null,
   "metadata": {},
   "outputs": [],
   "source": [
    "mild_cmn_feat = analyze_common_features('MILD')\n",
    "mild_cmn_feat"
   ]
  },
  {
   "cell_type": "code",
   "execution_count": null,
   "metadata": {},
   "outputs": [],
   "source": [
    "severe_cmn_feat = analyze_common_features('SEVERE')\n",
    "severe_cmn_feat"
   ]
  },
  {
   "cell_type": "code",
   "execution_count": null,
   "metadata": {},
   "outputs": [],
   "source": [
    "# Create a Pandas Excel writer using XlsxWriter as the engine.\n",
    "writer = pd.ExcelWriter('../graphs/common_feature_analysis.xlsx', engine='xlsxwriter')\n",
    "\n",
    "# Write each dataframe to a different worksheet.\n",
    "sub_cmn_feat.to_excel(writer, sheet_name='Subclinical')\n",
    "mild_cmn_feat.to_excel(writer, sheet_name='Mild')\n",
    "severe_cmn_feat.to_excel(writer, sheet_name='Severe')\n",
    "\n",
    "# Close the Pandas Excel writer and output the Excel file.\n",
    "writer.save()"
   ]
  },
  {
   "cell_type": "code",
   "execution_count": null,
   "metadata": {},
   "outputs": [],
   "source": [
    "# print out total notebook execution time\n",
    "total_seconds = int(time.time() - start_time)\n",
    "minutes = total_seconds // 60\n",
    "seconds = total_seconds % 60\n",
    "print(\"--- \" + str(minutes) + \" minutes \" + str(seconds) + \" seconds ---\")"
   ]
  },
  {
   "cell_type": "code",
   "execution_count": null,
   "metadata": {},
   "outputs": [],
   "source": []
  }
 ],
 "metadata": {
  "kernelspec": {
   "display_name": "Python 3",
   "language": "python",
   "name": "python3"
  },
  "language_info": {
   "codemirror_mode": {
    "name": "ipython",
    "version": 3
   },
   "file_extension": ".py",
   "mimetype": "text/x-python",
   "name": "python",
   "nbconvert_exporter": "python",
   "pygments_lexer": "ipython3",
   "version": "3.7.3"
  }
 },
 "nbformat": 4,
 "nbformat_minor": 2
}
