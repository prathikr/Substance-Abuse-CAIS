{
 "cells": [
  {
   "cell_type": "code",
   "execution_count": 1,
   "metadata": {},
   "outputs": [],
   "source": [
    "# store start time to get execution time of entire script\n",
    "import time\n",
    "start_time = time.time()"
   ]
  },
  {
   "cell_type": "code",
   "execution_count": 2,
   "metadata": {},
   "outputs": [],
   "source": [
    "import numpy as np\n",
    "np.random.seed(2017) # set random seed value to get reproducible results"
   ]
  },
  {
   "cell_type": "code",
   "execution_count": null,
   "metadata": {},
   "outputs": [],
   "source": [
    "from sklearn.model_selection import cross_validate\n",
    "from sksurv.ensemble import RandomSurvivalForest\n",
    "from tqdm.notebook import tqdm\n",
    "import statistics\n",
    "\n",
    "def n_permutations(n, rsf, feat, X, y):\n",
    "    mean = 0\n",
    "    std = 0\n",
    "    for i in range(n):\n",
    "        X[feat] = np.random.permutation(X[feat].values)        \n",
    "        scores = cross_validate(rsf, X, y, cv=5)\n",
    "        mean += scores['test_score'].mean()\n",
    "        std += statistics.pstdev(scores['test_score'])\n",
    "    #print('Feature:', feat, ' | Mean Score:', mean/n, ' | Standard Deviation:', std/n)\n",
    "    return mean/n, std/n\n",
    "\n",
    "def random_forest(X, y, label):\n",
    "    # run model and cross validate to get concordance\n",
    "    rsf = RandomSurvivalForest()\n",
    "    \n",
    "    scores = cross_validate(rsf, X, y, cv=5)\n",
    "    concordance = scores['test_score'].mean()\n",
    "    print('RF score:', concordance)\n",
    "    \n",
    "    # re-train model on full dataset\n",
    "    rsf = RandomSurvivalForest()\n",
    "    rsf.fit(X, y)\n",
    "    \n",
    "    # calculate feature importances\n",
    "    feature_importance_rf = pd.DataFrame({'Feature':list(X.columns),})\n",
    "    feature_importance_rf[label] = 0\n",
    "        \n",
    "    for i,row in tqdm(feature_importance_rf.iterrows(), total=feature_importance_rf.shape[0]):\n",
    "        feat = row['Feature']\n",
    "        temp_data = X.copy()\n",
    "        temp_score, _ = n_permutations(5, rsf, feat, temp_data, y)\n",
    "        percent_change = (concordance - temp_score) / concordance * 100 # percent change\n",
    "        if percent_change < 0:\n",
    "            percent_change = 0 # removing feature helped model, should not be reflected in feature importance\n",
    "        feature_importance_rf.iloc[i, feature_importance_rf.columns.get_loc(label)] = percent_change\n",
    "    \n",
    "    # return scores and models\n",
    "    return rsf, concordance, feature_importance_rf"
   ]
  },
  {
   "cell_type": "code",
   "execution_count": null,
   "metadata": {},
   "outputs": [],
   "source": [
    "def get_lasso_features(X):\n",
    "    # one-hot encode all variables (except primsev) to get hazards across groups, drop reference group\n",
    "    features_to_ignore = ['female','nonwhite','unemplmt_cd','primsev_alcohol','primsev_amphetamines',\n",
    "                          'primsev_cocaine','primsev_marijuana','primsev_opioids','primsev_other']\n",
    "    lasso_X = X.copy()\n",
    "    \n",
    "    for col in lasso_X.columns:\n",
    "        if col not in features_to_ignore:\n",
    "            one_hot = pd.get_dummies(lasso_X[col], prefix=col)\n",
    "            one_hot = one_hot.loc[:, ~one_hot.columns.str.endswith('1')] # drop group and use as reference\n",
    "            lasso_X = lasso_X.drop(col,axis = 1)\n",
    "            lasso_X = lasso_X.join(one_hot)\n",
    "    #print('Lasso Features:',lasso_X.columns)\n",
    "    return lasso_X"
   ]
  },
  {
   "cell_type": "code",
   "execution_count": null,
   "metadata": {},
   "outputs": [],
   "source": [
    "from sksurv.linear_model import CoxnetSurvivalAnalysis\n",
    "\n",
    "def lasso_regression(X, y, label):\n",
    "    # l1_ratio = 1 adjusts model to implement LASSO method for penalties\n",
    "    rcr = CoxnetSurvivalAnalysis(l1_ratio=1)\n",
    "    \n",
    "    scores = cross_validate(rcr, X, y, cv=5)\n",
    "    concordance = scores['test_score'].mean()\n",
    "    print('Lasso score:', concordance)\n",
    "    \n",
    "    # fit_baseline_model = True allows us to create survival/hazard plots after model is fit\n",
    "    rcr = CoxnetSurvivalAnalysis(fit_baseline_model=True, l1_ratio=1)\n",
    "    rcr.fit(X, y)\n",
    "    \n",
    "    # feature importances from Lasso\n",
    "    feature_importance_lasso = pd.DataFrame({'Feature':list(X.columns), \n",
    "                                                  label:np.average(rcr.coef_, weights=rcr.alphas_, axis = 1),})\n",
    "    # convert regression coefficients to hazard ratios\n",
    "    feature_importance_lasso[label] = np.exp(feature_importance_lasso[label])\n",
    "    # rank by magnitude of deviation from 1\n",
    "    feature_importance_lasso[label + '_adjusted'] = np.absolute(feature_importance_lasso[label]-1)\n",
    "    \n",
    "    return rcr, concordance, feature_importance_lasso"
   ]
  },
  {
   "cell_type": "code",
   "execution_count": null,
   "metadata": {},
   "outputs": [],
   "source": [
    "import matplotlib.pyplot as plt\n",
    "plt.rcParams[\"font.weight\"] = \"bold\"\n",
    "plt.rcParams[\"font.size\"] = 14\n",
    "\n",
    "def get_survival_graph(rsf, rcr, X, lasso_X, y, label, filename):\n",
    "    pred_surv_rsf = rsf.predict_survival_function(X)    \n",
    "    pred_surv_rcr = rcr.predict_survival_function(lasso_X)\n",
    "    \n",
    "    # display survival plot\n",
    "    plt.suptitle(label)\n",
    "    plt.plot(np.mean([person for person in pred_surv_rsf], axis=0), label='RF')\n",
    "    plt.plot(np.mean([person.y for person in pred_surv_rcr], axis=0), label='Lasso')\n",
    "    labels, temp = get_ground_truth(y)\n",
    "    plt.plot(labels, temp, label='Ground Truth')\n",
    "    plt.legend()\n",
    "    plt.xlim(0, 365)\n",
    "    plt.xticks(np.arange(0, 365, step=50))\n",
    "    plt.yticks(np.arange(0, 1.1, step=0.1))\n",
    "    plt.savefig(filename)\n",
    "        \n",
    "    plt.show()"
   ]
  },
  {
   "cell_type": "code",
   "execution_count": null,
   "metadata": {},
   "outputs": [],
   "source": [
    "# helper function for plotting out ground truth curves\n",
    "\n",
    "def get_ground_truth(data):\n",
    "    relapsed = data[data.Illicit_Cens == 1]\n",
    "    counts = relapsed['Illicit_Days'].value_counts()\n",
    "    counts = counts.to_dict()\n",
    "    temp = [len(data)] * 365\n",
    "    labels = list(range(365))\n",
    "    for i in range(365):\n",
    "        labels[i] += 1\n",
    "    total = 0\n",
    "    errors = []\n",
    "    for i in range(365):\n",
    "        try:\n",
    "            temp[i] = temp[i] - counts[i+1] - total\n",
    "            total = total + counts[i+1]\n",
    "        except KeyError:\n",
    "            errors.append(i)\n",
    "\n",
    "    for ele in sorted(errors, reverse = False):\n",
    "        if ele != 0:\n",
    "            temp[ele] = temp[ele-1]\n",
    "        else:\n",
    "             temp[0] = len(data)\n",
    "    temp = [x / len(data) for x in temp]\n",
    "    return labels, temp"
   ]
  },
  {
   "cell_type": "code",
   "execution_count": null,
   "metadata": {},
   "outputs": [],
   "source": [
    "# helper functions for displaying table data\n",
    "\n",
    "import numpy as np\n",
    "from IPython.display import display_html\n",
    "\n",
    "# n is the number of columns to display data in\n",
    "def display_side_by_side(series_obj, n):\n",
    "    df = pd.DataFrame(series_obj)\n",
    "    partition = int(round(len(df) / n))\n",
    "    lower_bound = 0\n",
    "    upper_bound = partition\n",
    "    args = []\n",
    "    for i in range(n):\n",
    "        args.append(df[lower_bound:upper_bound])\n",
    "        lower_bound += partition\n",
    "        upper_bound += partition\n",
    "    helper(args)\n",
    "\n",
    "def helper(args):\n",
    "    html_str=''\n",
    "    for df in args:\n",
    "        html_str+=df.to_html()\n",
    "    display_html(html_str.replace('table','table style=\"display:inline\"'),raw=True)"
   ]
  },
  {
   "cell_type": "markdown",
   "metadata": {},
   "source": [
    "Survival Analysis by Severity"
   ]
  },
  {
   "cell_type": "code",
   "execution_count": null,
   "metadata": {},
   "outputs": [],
   "source": [
    "import pandas as pd\n",
    "pd.set_option('display.max_rows', 500)\n",
    "pd.set_option('display.max_columns', 500)\n",
    "import csv\n",
    "\n",
    "df = pd.read_csv('../data/data_superset.csv')\n",
    "df.head()"
   ]
  },
  {
   "cell_type": "code",
   "execution_count": null,
   "metadata": {},
   "outputs": [],
   "source": [
    "# drop unnecessary columns\n",
    "cols_to_drop = ['Address','lat','lng','xobsyr_0','Unnamed: 0','Unnamed: 0.1','Unnamed: 0.1.1',\n",
    "                'ID','State','City','agyaddr','state_name','gran','county_FIPS','block_FIPS',\n",
    "                'point','closest','%_public_assistanceg','%_dropoutg','%_unemployedg']\n",
    "\n",
    "df.drop(columns=cols_to_drop, inplace=True)\n",
    "df.dropna(inplace=True) # drops any remaining rows with null values\n",
    "\n",
    "# uncomment to get CONTROL statistics\n",
    "#cols_to_drop = ['pop_deng','%_dropoutg','%_unemployedg','%_public_assistanceg','%_povertyg','murder_numg']\n",
    "#df.drop(columns=cols_to_drop, inplace=True)\n",
    "\n",
    "df = df.astype(int)\n",
    "df = df.sample(frac=1).reset_index(drop=True) # shuffle rows\n",
    "df.shape"
   ]
  },
  {
   "cell_type": "code",
   "execution_count": null,
   "metadata": {},
   "outputs": [],
   "source": [
    "df[\"SUDSy_0_cd\"].value_counts()"
   ]
  },
  {
   "cell_type": "code",
   "execution_count": null,
   "metadata": {},
   "outputs": [],
   "source": [
    "df.to_csv('../data/data_final.csv')\n",
    "df.head()"
   ]
  },
  {
   "cell_type": "markdown",
   "metadata": {},
   "source": [
    "Full Population Analysis"
   ]
  },
  {
   "cell_type": "code",
   "execution_count": null,
   "metadata": {},
   "outputs": [],
   "source": [
    "from sksurv.util import Surv\n",
    "\n",
    "predictor_var = 'Illicit_Days'\n",
    "censoring_var = 'Illicit_Cens'\n",
    "\n",
    "X = df.copy()\n",
    "Y = X[[censoring_var, predictor_var]]\n",
    "X.drop(columns=[censoring_var, predictor_var], inplace=True)\n",
    "y = Surv.from_arrays(Y[censoring_var], Y[predictor_var]) # structured array to ensure correct censoring\n",
    "\n",
    "print(X.shape, y.shape)"
   ]
  },
  {
   "cell_type": "code",
   "execution_count": null,
   "metadata": {},
   "outputs": [],
   "source": [
    "%%time\n",
    "full_rsf, full_rsf_score, full_rsf_feature_importance = random_forest(X, y, 'ALL')\n",
    "full_rf_features = full_rsf_feature_importance[full_rsf_feature_importance.ALL >= 0.5]['Feature'].tolist()"
   ]
  },
  {
   "cell_type": "code",
   "execution_count": null,
   "metadata": {},
   "outputs": [],
   "source": [
    "%%time\n",
    "full_lasso_X = get_lasso_features(X[full_rf_features])\n",
    "full_rcr, full_rcr_score, full_rcr_feature_importance = lasso_regression(full_lasso_X, y, 'ALL')"
   ]
  },
  {
   "cell_type": "code",
   "execution_count": null,
   "metadata": {},
   "outputs": [],
   "source": [
    "get_survival_graph(full_rsf, full_rcr, X, full_lasso_X, Y, 'Survival: All Severity Levels','../graphs/survival_all.png')"
   ]
  },
  {
   "cell_type": "markdown",
   "metadata": {},
   "source": [
    "Subclinical Severity Analysis"
   ]
  },
  {
   "cell_type": "code",
   "execution_count": null,
   "metadata": {},
   "outputs": [],
   "source": [
    "X = df[df.SUDSy_0_cd == 1]\n",
    "Y = X[[censoring_var, predictor_var]]\n",
    "X.drop(columns=[censoring_var, predictor_var, 'SUDSy_0_cd'], inplace=True)\n",
    " \n",
    "y = Surv.from_arrays(Y[censoring_var], Y[predictor_var]) # structured array to ensure correct censoring\n",
    "\n",
    "print(X.shape, y.shape)"
   ]
  },
  {
   "cell_type": "code",
   "execution_count": null,
   "metadata": {},
   "outputs": [],
   "source": [
    "%%time\n",
    "sub_rsf, sub_rsf_score, sub_rsf_feature_importance = random_forest(X, y, 'SUB')\n",
    "sub_rf_features = sub_rsf_feature_importance[sub_rsf_feature_importance.SUB >= 0.5]['Feature'].tolist()"
   ]
  },
  {
   "cell_type": "code",
   "execution_count": null,
   "metadata": {},
   "outputs": [],
   "source": [
    "%%time\n",
    "sub_lasso_X = get_lasso_features(X[sub_rf_features])\n",
    "sub_rcr, sub_rcr_score, sub_rcr_feature_importance = lasso_regression(sub_lasso_X, y, 'SUB')"
   ]
  },
  {
   "cell_type": "code",
   "execution_count": null,
   "metadata": {},
   "outputs": [],
   "source": [
    "get_survival_graph(sub_rsf, sub_rcr, X, sub_lasso_X, Y, 'Survival: Subclinical Severity','../graphs/survival_sub.png')"
   ]
  },
  {
   "cell_type": "markdown",
   "metadata": {},
   "source": [
    "Mild Severity Analysis"
   ]
  },
  {
   "cell_type": "code",
   "execution_count": null,
   "metadata": {},
   "outputs": [],
   "source": [
    "X = df[df.SUDSy_0_cd == 2]\n",
    "Y = X[[censoring_var, predictor_var]]\n",
    "X.drop(columns=[censoring_var, predictor_var, 'SUDSy_0_cd'], inplace=True)\n",
    "\n",
    "y = Surv.from_arrays(Y[censoring_var], Y[predictor_var]) # structured array to ensure correct censoring\n",
    "\n",
    "print(X.shape, y.shape)"
   ]
  },
  {
   "cell_type": "code",
   "execution_count": null,
   "metadata": {},
   "outputs": [],
   "source": [
    "%%time\n",
    "mild_rsf, mild_rsf_score, mild_rsf_feature_importance = random_forest(X, y, 'MILD')\n",
    "mild_rf_features = mild_rsf_feature_importance[mild_rsf_feature_importance.MILD >= 0.5]['Feature'].tolist()"
   ]
  },
  {
   "cell_type": "code",
   "execution_count": null,
   "metadata": {},
   "outputs": [],
   "source": [
    "%%time\n",
    "mild_lasso_X = get_lasso_features(X[mild_rf_features])\n",
    "mild_rcr, mild_rcr_score, mild_rcr_feature_importance = lasso_regression(mild_lasso_X, y, 'MILD')"
   ]
  },
  {
   "cell_type": "code",
   "execution_count": null,
   "metadata": {},
   "outputs": [],
   "source": [
    "get_survival_graph(mild_rsf, mild_rcr, X, mild_lasso_X, Y, 'Survival: Mild Severity','../graphs/survival_mild.png')"
   ]
  },
  {
   "cell_type": "markdown",
   "metadata": {},
   "source": [
    "Severe Severity Analysis"
   ]
  },
  {
   "cell_type": "code",
   "execution_count": null,
   "metadata": {},
   "outputs": [],
   "source": [
    "X = df[df.SUDSy_0_cd == 3]\n",
    "Y = X[[censoring_var, predictor_var]]\n",
    "X.drop(columns=[censoring_var, predictor_var, 'SUDSy_0_cd'], inplace=True)\n",
    "\n",
    "y = Surv.from_arrays(Y[censoring_var], Y[predictor_var]) # structured array to ensure correct censoring\n",
    "\n",
    "print(X.shape, y.shape)"
   ]
  },
  {
   "cell_type": "code",
   "execution_count": null,
   "metadata": {},
   "outputs": [],
   "source": [
    "%%time\n",
    "severe_rsf, severe_rsf_score, severe_rsf_feature_importance = random_forest(X, y, 'SEVERE')\n",
    "severe_rf_features = severe_rsf_feature_importance[severe_rsf_feature_importance.SEVERE >= 0.5]['Feature'].tolist()"
   ]
  },
  {
   "cell_type": "code",
   "execution_count": null,
   "metadata": {},
   "outputs": [],
   "source": [
    "severe_rsf_feature_importance[severe_rsf_feature_importance.SEVERE != 0]"
   ]
  },
  {
   "cell_type": "code",
   "execution_count": null,
   "metadata": {},
   "outputs": [],
   "source": [
    "%%time\n",
    "severe_lasso_X = get_lasso_features(X[severe_rf_features])\n",
    "severe_rcr, severe_rcr_score, severe_rcr_feature_importance = lasso_regression(severe_lasso_X, y, 'SEVERE')"
   ]
  },
  {
   "cell_type": "code",
   "execution_count": null,
   "metadata": {},
   "outputs": [],
   "source": [
    "get_survival_graph(severe_rsf, severe_rcr, X, severe_lasso_X, Y, 'Survival: Severe Severity','../graphs/survival_severe.png')"
   ]
  },
  {
   "cell_type": "markdown",
   "metadata": {},
   "source": [
    "Performance Statistics"
   ]
  },
  {
   "cell_type": "code",
   "execution_count": null,
   "metadata": {},
   "outputs": [],
   "source": [
    "# concordance index\n",
    "scores = {'MODEL': ['Random Forest','Lasso','Dataset Size'], \n",
    "          'SUB': [sub_rsf_score,sub_rcr_score,int(sub_lasso_X.shape[0])],\n",
    "          'MILD': [mild_rsf_score,mild_rcr_score,int(mild_lasso_X.shape[0])],\n",
    "          'SEVERE': [severe_rsf_score,severe_rcr_score,int(severe_lasso_X.shape[0])],\n",
    "          'FULL': [full_rsf_score,full_rcr_score,int(full_lasso_X.shape[0])]\n",
    "         }\n",
    "overall_concordance = pd.DataFrame(data=scores).round(4)\n",
    "overall_concordance"
   ]
  },
  {
   "cell_type": "markdown",
   "metadata": {},
   "source": [
    "Feature Importance - Random Forest"
   ]
  },
  {
   "cell_type": "code",
   "execution_count": null,
   "metadata": {},
   "outputs": [],
   "source": [
    "overall_feature_importance_rf = pd.merge(sub_rsf_feature_importance, mild_rsf_feature_importance, on='Feature', how='outer')\n",
    "overall_feature_importance_rf = pd.merge(overall_feature_importance_rf, severe_rsf_feature_importance, on='Feature', how='outer')\n",
    "overall_feature_importance_rf.fillna(0, inplace=True)\n",
    "display_side_by_side(overall_feature_importance_rf, 4)"
   ]
  },
  {
   "cell_type": "code",
   "execution_count": null,
   "metadata": {},
   "outputs": [],
   "source": [
    "sub_feature_importance_rf = sub_rsf_feature_importance.nlargest(10,['SUB'])\n",
    "mild_feature_importance_rf = mild_rsf_feature_importance.nlargest(10,['MILD'])\n",
    "severe_feature_importance_rf = severe_rsf_feature_importance.nlargest(10,['SEVERE'])\n",
    "\n",
    "top10_feature_importance_rf = pd.merge(sub_feature_importance_rf, mild_feature_importance_rf, on='Feature', how='outer')\n",
    "top10_feature_importance_rf = pd.merge(top10_feature_importance_rf, severe_feature_importance_rf, on='Feature', how='outer')\n",
    "top10_feature_importance_rf.fillna(0, inplace=True)\n",
    "display_side_by_side(top10_feature_importance_rf, 4)"
   ]
  },
  {
   "cell_type": "code",
   "execution_count": null,
   "metadata": {},
   "outputs": [],
   "source": [
    "# feature importance for rf across all ages\n",
    "feature_importance = pd.DataFrame({'SUB': top10_feature_importance_rf['SUB'].tolist(),\n",
    "                   'MILD': top10_feature_importance_rf['MILD'].tolist(),\n",
    "                   'SEVERE': top10_feature_importance_rf['SEVERE'].tolist()},\n",
    "                  index=top10_feature_importance_rf['Feature'].tolist())\n",
    "# John asked to sort this graph by MILD\n",
    "feature_importance.sort_values(by=['SUB','MILD','SEVERE'], ascending=False, inplace=True)\n",
    "ax = feature_importance.plot.barh(rot=50, figsize=(12, 12))\n",
    "ax.grid()\n",
    "ax.set_title('Feature Importance: RF')\n",
    "fig = ax.get_figure()\n",
    "    \n",
    "fig.savefig('../graphs/feature_importance.png', bbox_inches='tight')"
   ]
  },
  {
   "cell_type": "code",
   "execution_count": null,
   "metadata": {},
   "outputs": [],
   "source": [
    "# feature importance for rf across all ages\n",
    "feature_importance_sub = pd.DataFrame({'SUB': top10_feature_importance_rf['SUB'].tolist()},\n",
    "                  index=top10_feature_importance_rf['Feature'].tolist())\n",
    "feature_importance_sub = feature_importance_sub[feature_importance_sub.SUB != 0]\n",
    "# John asked to sort this graph by MILD\n",
    "feature_importance_sub.sort_values(by=['SUB'], ascending=False, inplace=True)\n",
    "ax = feature_importance_sub.plot.barh(rot=50, figsize=(12, 12), color='blue')\n",
    "ax.grid()\n",
    "ax.set_title('Feature Importance: RF')\n",
    "fig = ax.get_figure()\n",
    "    \n",
    "fig.savefig('../graphs/feature_importance_sub.png', bbox_inches='tight')"
   ]
  },
  {
   "cell_type": "code",
   "execution_count": null,
   "metadata": {},
   "outputs": [],
   "source": [
    "# feature importance for rf across all ages\n",
    "feature_importance_mild = pd.DataFrame({'MILD': top10_feature_importance_rf['MILD'].tolist()},\n",
    "                  index=top10_feature_importance_rf['Feature'].tolist())\n",
    "feature_importance_mild = feature_importance_mild[feature_importance_mild.MILD != 0]\n",
    "# John asked to sort this graph by MILD\n",
    "feature_importance_mild.sort_values(by=['MILD'], ascending=False, inplace=True)\n",
    "ax = feature_importance_mild.plot.barh(rot=50, figsize=(12, 12), color='orange')\n",
    "ax.grid()\n",
    "ax.set_title('Feature Importance: RF')\n",
    "fig = ax.get_figure()\n",
    "    \n",
    "fig.savefig('../graphs/feature_importance_mild.png', bbox_inches='tight')"
   ]
  },
  {
   "cell_type": "code",
   "execution_count": null,
   "metadata": {},
   "outputs": [],
   "source": [
    "# feature importance for rf across all ages\n",
    "feature_importance_severe = pd.DataFrame({'SEVERE': top10_feature_importance_rf['SEVERE'].tolist()},\n",
    "                  index=top10_feature_importance_rf['Feature'].tolist())\n",
    "feature_importance_severe = feature_importance_severe[feature_importance_severe.SEVERE != 0]\n",
    "# John asked to sort this graph by MILD\n",
    "feature_importance_severe.sort_values(by=['SEVERE'], ascending=False, inplace=True)\n",
    "ax = feature_importance_severe.plot.barh(rot=50, figsize=(12, 12), color='green')\n",
    "ax.grid()\n",
    "ax.set_title('Feature Importance: RF')\n",
    "fig = ax.get_figure()\n",
    "    \n",
    "fig.savefig('../graphs/feature_importance_severe.png', bbox_inches='tight')"
   ]
  },
  {
   "cell_type": "markdown",
   "metadata": {},
   "source": [
    "Feature Importance - Lasso"
   ]
  },
  {
   "cell_type": "code",
   "execution_count": null,
   "metadata": {},
   "outputs": [],
   "source": [
    "overall_feature_importance_lasso = pd.merge(sub_rcr_feature_importance, \\\n",
    "                                            mild_rcr_feature_importance, on='Feature', how='outer')\n",
    "overall_feature_importance_lasso = pd.merge(overall_feature_importance_lasso, \\\n",
    "                                            severe_rcr_feature_importance, on='Feature', how='outer')\n",
    "overall_feature_importance_lasso.fillna(0, inplace=True)\n",
    "display_side_by_side(overall_feature_importance_lasso, 2)"
   ]
  },
  {
   "cell_type": "code",
   "execution_count": null,
   "metadata": {},
   "outputs": [],
   "source": [
    "sub_feature_importance_lasso = sub_rcr_feature_importance.nlargest(10,['SUB_adjusted'])\n",
    "mild_feature_importance_lasso = mild_rcr_feature_importance.nlargest(10,['MILD_adjusted'])\n",
    "severe_feature_importance_lasso = severe_rcr_feature_importance.nlargest(10,['SEVERE_adjusted'])\n",
    "\n",
    "top10_feature_importance_lasso = pd.merge(sub_feature_importance_lasso, \\\n",
    "                                            mild_feature_importance_lasso, on='Feature', how='outer')\n",
    "top10_feature_importance_lasso = pd.merge(top10_feature_importance_lasso, \\\n",
    "                                            severe_feature_importance_lasso, on='Feature', how='outer')\n",
    "top10_feature_importance_lasso.fillna(0, inplace=True)\n",
    "display_side_by_side(top10_feature_importance_lasso, 2)"
   ]
  },
  {
   "cell_type": "code",
   "execution_count": null,
   "metadata": {},
   "outputs": [],
   "source": [
    "top10_feature_importance_lasso['SUB_minus1'] = top10_feature_importance_lasso['SUB'] - 1\n",
    "top10_feature_importance_lasso['MILD_minus1'] = top10_feature_importance_lasso['MILD'] - 1\n",
    "top10_feature_importance_lasso['SEVERE_minus1'] = top10_feature_importance_lasso['SEVERE'] - 1\n",
    "\n",
    "haz_df = pd.DataFrame({'SUB': top10_feature_importance_lasso['SUB_minus1'].tolist(),\n",
    "                   'MILD': top10_feature_importance_lasso['MILD_minus1'].tolist(),\n",
    "                   'SEVERE': top10_feature_importance_lasso['SEVERE_minus1'].tolist()},\n",
    "                  index=top10_feature_importance_lasso['Feature'].tolist())\n",
    "haz_df = haz_df.replace(-1, 0)\n",
    "haz_df.sort_values(by=['SUB','MILD','SEVERE'], ascending=False, inplace=True)\n",
    "ax = haz_df.plot.barh(rot=50, figsize=(12, 12))\n",
    "ax.grid()\n",
    "ax.set_title('Hazards From Lasso Model')\n",
    "fig = ax.get_figure()\n",
    "\n",
    "fig.savefig('../graphs/hazards_lasso.png', bbox_inches='tight')"
   ]
  },
  {
   "cell_type": "code",
   "execution_count": null,
   "metadata": {},
   "outputs": [],
   "source": [
    "haz_sub = pd.DataFrame({'SUB': top10_feature_importance_lasso['SUB_minus1'].tolist()},\n",
    "                  index=top10_feature_importance_lasso['Feature'].tolist())\n",
    "haz_sub = haz_sub[haz_sub.SUB != -1]\n",
    "haz_sub.sort_values(by=['SUB'], ascending=False, inplace=True)\n",
    "\n",
    "ax = haz_sub.plot.barh(rot=50, figsize=(12, 12), color='blue')\n",
    "ax.grid()\n",
    "ax.set_title('Hazards From Lasso Model')\n",
    "fig = ax.get_figure()\n",
    "\n",
    "fig.savefig('../graphs/hazards_lasso_sub.png', bbox_inches='tight')"
   ]
  },
  {
   "cell_type": "code",
   "execution_count": null,
   "metadata": {},
   "outputs": [],
   "source": [
    "haz_mild = pd.DataFrame({'MILD': top10_feature_importance_lasso['MILD_minus1'].tolist()},\n",
    "                  index=top10_feature_importance_lasso['Feature'].tolist())\n",
    "haz_mild = haz_mild[haz_mild.MILD != -1]\n",
    "haz_mild.sort_values(by=['MILD'], ascending=False, inplace=True)\n",
    "\n",
    "ax = haz_mild.plot.barh(rot=50, figsize=(12, 12), color='orange')\n",
    "ax.grid()\n",
    "ax.set_title('Hazards From Lasso Model')\n",
    "fig = ax.get_figure()\n",
    "\n",
    "fig.savefig('../graphs/hazards_lasso_mild.png', bbox_inches='tight')"
   ]
  },
  {
   "cell_type": "code",
   "execution_count": null,
   "metadata": {},
   "outputs": [],
   "source": [
    "haz_severe = pd.DataFrame({'SEVERE': top10_feature_importance_lasso['SEVERE_minus1'].tolist()},\n",
    "                  index=top10_feature_importance_lasso['Feature'].tolist())\n",
    "haz_severe = haz_severe[haz_severe.SEVERE != -1]\n",
    "haz_severe.sort_values(by=['SEVERE'], ascending=False, inplace=True)\n",
    "\n",
    "ax = haz_severe.plot.barh(rot=50, figsize=(12, 12), color='green')\n",
    "ax.grid()\n",
    "ax.set_title('Hazards From Lasso Model')\n",
    "fig = ax.get_figure()\n",
    "\n",
    "fig.savefig('../graphs/hazards_lasso_severe.png', bbox_inches='tight')"
   ]
  },
  {
   "cell_type": "markdown",
   "metadata": {},
   "source": [
    "Saving Feature Importance Spreadsheet..."
   ]
  },
  {
   "cell_type": "code",
   "execution_count": null,
   "metadata": {},
   "outputs": [],
   "source": [
    "sub_cmn_feat = sub_rsf_feature_importance.copy()\n",
    "sub_cmn_feat['Lasso_0'] = 0.0\n",
    "sub_cmn_feat['Lasso_2'] = 0.0\n",
    "sub_lasso_feat = sub_rcr_feature_importance.copy()\n",
    "for i,row_rf in tqdm(sub_cmn_feat.iterrows(), total=sub_cmn_feat.shape[0]):\n",
    "    rf_feat = row_rf['Feature']\n",
    "    for j,row_lasso in sub_lasso_feat.iterrows():\n",
    "        lasso_feat = row_lasso['Feature']\n",
    "        if lasso_feat.startswith(rf_feat):\n",
    "            if lasso_feat[-1] == '2':\n",
    "                sub_cmn_feat.set_value(i, 'Lasso_2', row_lasso['SUB'])\n",
    "            else:\n",
    "                sub_cmn_feat.set_value(i, 'Lasso_0', row_lasso['SUB'])\n",
    "sub_cmn_feat"
   ]
  },
  {
   "cell_type": "code",
   "execution_count": null,
   "metadata": {},
   "outputs": [],
   "source": [
    "mild_cmn_feat = mild_rsf_feature_importance.copy()\n",
    "mild_cmn_feat['Lasso_0'] = 0.0\n",
    "mild_cmn_feat['Lasso_2'] = 0.0\n",
    "mild_lasso_feat = mild_rcr_feature_importance.copy()\n",
    "for i,row_rf in tqdm(mild_cmn_feat.iterrows(), total=mild_cmn_feat.shape[0]):\n",
    "    rf_feat = row_rf['Feature']\n",
    "    for j,row_lasso in mild_lasso_feat.iterrows():\n",
    "        lasso_feat = row_lasso['Feature']\n",
    "        if lasso_feat.startswith(rf_feat):\n",
    "            if lasso_feat[-1] == '2':\n",
    "                mild_cmn_feat.set_value(i, 'Lasso_2', row_lasso['MILD'])\n",
    "            else:\n",
    "                mild_cmn_feat.set_value(i, 'Lasso_0', row_lasso['MILD'])\n",
    "mild_cmn_feat"
   ]
  },
  {
   "cell_type": "code",
   "execution_count": null,
   "metadata": {},
   "outputs": [],
   "source": [
    "severe_cmn_feat = severe_rsf_feature_importance.copy()\n",
    "severe_cmn_feat['Lasso_0'] = 0.0\n",
    "severe_cmn_feat['Lasso_2'] = 0.0\n",
    "severe_lasso_feat = severe_rcr_feature_importance.copy()\n",
    "for i,row_rf in tqdm(severe_cmn_feat.iterrows(), total=severe_cmn_feat.shape[0]):\n",
    "    rf_feat = row_rf['Feature']\n",
    "    for j,row_lasso in severe_lasso_feat.iterrows():\n",
    "        lasso_feat = row_lasso['Feature']\n",
    "        if lasso_feat.startswith(rf_feat):\n",
    "            if lasso_feat[-1] == '2':\n",
    "                severe_cmn_feat.set_value(i, 'Lasso_2', row_lasso['SEVERE'])\n",
    "            else:\n",
    "                severe_cmn_feat.set_value(i, 'Lasso_0', row_lasso['SEVERE'])\n",
    "severe_cmn_feat"
   ]
  },
  {
   "cell_type": "code",
   "execution_count": null,
   "metadata": {},
   "outputs": [],
   "source": [
    "# Create a Pandas Excel writer using XlsxWriter as the engine.\n",
    "writer = pd.ExcelWriter('../graphs/common_feature_analysis.xlsx', engine='xlsxwriter')\n",
    "\n",
    "# Write each dataframe to a different worksheet.\n",
    "sub_cmn_feat.to_excel(writer, sheet_name='Subclinical')\n",
    "mild_cmn_feat.to_excel(writer, sheet_name='Mild')\n",
    "severe_cmn_feat.to_excel(writer, sheet_name='Severe')\n",
    "\n",
    "# Close the Pandas Excel writer and output the Excel file.\n",
    "writer.save()"
   ]
  },
  {
   "cell_type": "code",
   "execution_count": null,
   "metadata": {},
   "outputs": [],
   "source": [
    "%%bash\n",
    "jupyter nbconvert --to html ../graphs/survival_analysis_5.ipynb"
   ]
  },
  {
   "cell_type": "code",
   "execution_count": null,
   "metadata": {},
   "outputs": [],
   "source": [
    "# print out total notebook execution time\n",
    "total_seconds = int(time.time() - start_time)\n",
    "hours = total_seconds // (60 * 60)\n",
    "minutes = (total_seconds - hours*60) // 60\n",
    "seconds = (total_seconds - hours*60) % 60\n",
    "print(\"--- \" + str(minutes) + \" minutes \" + str(seconds) + \" seconds ---\")"
   ]
  },
  {
   "cell_type": "code",
   "execution_count": null,
   "metadata": {},
   "outputs": [],
   "source": []
  }
 ],
 "metadata": {
  "kernelspec": {
   "display_name": "Python 3",
   "language": "python",
   "name": "python3"
  },
  "language_info": {
   "codemirror_mode": {
    "name": "ipython",
    "version": 3
   },
   "file_extension": ".py",
   "mimetype": "text/x-python",
   "name": "python",
   "nbconvert_exporter": "python",
   "pygments_lexer": "ipython3",
   "version": "3.7.3"
  }
 },
 "nbformat": 4,
 "nbformat_minor": 2
}
