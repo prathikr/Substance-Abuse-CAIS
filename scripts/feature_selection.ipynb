{
 "cells": [
  {
   "cell_type": "code",
   "execution_count": 1,
   "metadata": {},
   "outputs": [],
   "source": [
    "# store start time to get execution time of entire script\n",
    "import time\n",
    "start_time = time.time()"
   ]
  },
  {
   "cell_type": "code",
   "execution_count": 2,
   "metadata": {},
   "outputs": [],
   "source": [
    "import numpy as np\n",
    "np.random.seed(2017) # set random seed value to get reproducible results"
   ]
  },
  {
   "cell_type": "code",
   "execution_count": 3,
   "metadata": {
    "scrolled": true
   },
   "outputs": [
    {
     "name": "stderr",
     "output_type": "stream",
     "text": [
      "//anaconda3/lib/python3.7/importlib/_bootstrap.py:219: RuntimeWarning: sklearn.tree._splitter.Splitter size changed, may indicate binary incompatibility. Expected 360 from C header, got 368 from PyObject\n",
      "  return f(*args, **kwds)\n"
     ]
    }
   ],
   "source": [
    "from sksurv.ensemble import RandomSurvivalForest\n",
    "from sklearn.model_selection import cross_validate\n",
    "import matplotlib.pyplot as plt\n",
    "from tqdm.notebook import tqdm\n",
    "plt.rcParams[\"font.weight\"] = \"bold\"\n",
    "plt.rcParams[\"font.size\"] = 14\n",
    "plt.rcParams[\"figure.figsize\"] = 10, 10\n",
    "\n",
    "def forward_feature_selection(rsf, X, y, title):\n",
    "    features = list(X.columns)\n",
    "    selected_features = []\n",
    "    scores = []\n",
    "    \n",
    "    for i in tqdm(range(X.shape[1])):\n",
    "        best_score = 0\n",
    "        next_feat = ''\n",
    "        for feat in features:\n",
    "            selected_features.append(feat)\n",
    "            temp_X = X[selected_features]\n",
    "            temp_scores = cross_validate(rsf, temp_X, y, cv=5)\n",
    "            temp_score = temp_scores['test_score'].mean()\n",
    "            if temp_score > best_score:\n",
    "                best_score = temp_score\n",
    "                next_feat = feat\n",
    "            selected_features.pop()\n",
    "        #print('Added Feature:', next_feat)\n",
    "        selected_features.append(next_feat)\n",
    "        features.remove(next_feat)\n",
    "        scores.append(best_score)\n",
    "        \n",
    "    print('Ordering of Features:', selected_features)\n",
    "    \n",
    "    plt.title(title)\n",
    "    plt.xlabel('# of Features')\n",
    "    plt.ylabel('score')\n",
    "    plt.plot(list(range(X.shape[1])), scores)"
   ]
  },
  {
   "cell_type": "code",
   "execution_count": 4,
   "metadata": {},
   "outputs": [],
   "source": [
    "def backward_feature_selection(rsf, X, y, title):\n",
    "    features = list(X.columns)\n",
    "    removed_features = []\n",
    "    scores = []\n",
    "    \n",
    "    # calculate scores with all features\n",
    "    temp_scores = cross_validate(rsf, X, y, cv=5)\n",
    "    temp_score = temp_scores['test_score'].mean()\n",
    "    scores.append(temp_score)\n",
    "    \n",
    "    for i in tqdm(range(X.shape[1]-1)):\n",
    "        best_score = 0\n",
    "        drop_feat = ''\n",
    "        for feat in features:\n",
    "            removed_features.append(feat)\n",
    "            temp_X = X.drop(columns=removed_features, inplace=False)\n",
    "            temp_scores = cross_validate(rsf, temp_X, y, cv=5)\n",
    "            temp_score = temp_scores['test_score'].mean()\n",
    "            if temp_score > best_score:\n",
    "                best_score = temp_score\n",
    "                drop_feat = feat\n",
    "            removed_features.pop()\n",
    "        #print('Removed Feature:', next_feat)\n",
    "        removed_features.append(drop_feat)\n",
    "        features.remove(drop_feat)\n",
    "        scores.append(best_score)\n",
    "    \n",
    "    removed_features.extend(features) # add last element left in features\n",
    "    removed_features.reverse()\n",
    "    print('Ordering of Features:', removed_features)\n",
    "    \n",
    "    plt.title(title)\n",
    "    plt.xlabel('# of Features')\n",
    "    plt.ylabel('score')\n",
    "    \n",
    "    x = list(range(X.shape[1]))\n",
    "    x.reverse()\n",
    "    plt.plot(x, scores)"
   ]
  },
  {
   "cell_type": "code",
   "execution_count": 5,
   "metadata": {},
   "outputs": [
    {
     "data": {
      "text/html": [
       "<div>\n",
       "<style scoped>\n",
       "    .dataframe tbody tr th:only-of-type {\n",
       "        vertical-align: middle;\n",
       "    }\n",
       "\n",
       "    .dataframe tbody tr th {\n",
       "        vertical-align: top;\n",
       "    }\n",
       "\n",
       "    .dataframe thead th {\n",
       "        text-align: right;\n",
       "    }\n",
       "</style>\n",
       "<table border=\"1\" class=\"dataframe\">\n",
       "  <thead>\n",
       "    <tr style=\"text-align: right;\">\n",
       "      <th></th>\n",
       "      <th>Unnamed: 0</th>\n",
       "      <th>Unnamed: 0.1</th>\n",
       "      <th>Unnamed: 0.1.1</th>\n",
       "      <th>ID</th>\n",
       "      <th>State</th>\n",
       "      <th>City</th>\n",
       "      <th>agyaddr</th>\n",
       "      <th>xobsyr_0</th>\n",
       "      <th>Illicit_Days</th>\n",
       "      <th>Illicit_Cens</th>\n",
       "      <th>female</th>\n",
       "      <th>nonwhite</th>\n",
       "      <th>unemplmt_cd</th>\n",
       "      <th>prsatx_cd</th>\n",
       "      <th>gvsg_cd</th>\n",
       "      <th>CWSg_0_cd</th>\n",
       "      <th>dssg_0_cd</th>\n",
       "      <th>epsg_0_cd</th>\n",
       "      <th>adhdg_0_cd</th>\n",
       "      <th>cdsg_0_cd</th>\n",
       "      <th>cjsig_0_cd</th>\n",
       "      <th>lrig_0_cd</th>\n",
       "      <th>srig_0_cd</th>\n",
       "      <th>SESg_0_cd</th>\n",
       "      <th>r4ag_0_cd</th>\n",
       "      <th>SUDSy_0_cd</th>\n",
       "      <th>homeless_0_cd</th>\n",
       "      <th>ncar_cd</th>\n",
       "      <th>TRIg_0_cd</th>\n",
       "      <th>PYS9Sxg_cd</th>\n",
       "      <th>primsev_other</th>\n",
       "      <th>primsev_alcohol</th>\n",
       "      <th>primsev_amphetamines</th>\n",
       "      <th>primsev_cocaine</th>\n",
       "      <th>primsev_marijuana</th>\n",
       "      <th>primsev_opioids</th>\n",
       "      <th>B2a_0g</th>\n",
       "      <th>Address</th>\n",
       "      <th>lat</th>\n",
       "      <th>lng</th>\n",
       "      <th>state_name</th>\n",
       "      <th>county_FIPS</th>\n",
       "      <th>block_FIPS</th>\n",
       "      <th>murder_numg</th>\n",
       "      <th>%_dropoutg</th>\n",
       "      <th>%_povertyg</th>\n",
       "      <th>%_public_assistanceg</th>\n",
       "      <th>%_unemployedg</th>\n",
       "      <th>closest</th>\n",
       "      <th>gran</th>\n",
       "      <th>point</th>\n",
       "      <th>pop_deng</th>\n",
       "    </tr>\n",
       "  </thead>\n",
       "  <tbody>\n",
       "    <tr>\n",
       "      <th>0</th>\n",
       "      <td>0</td>\n",
       "      <td>1</td>\n",
       "      <td>6</td>\n",
       "      <td>11520</td>\n",
       "      <td>TX</td>\n",
       "      <td>Laredo</td>\n",
       "      <td>2386 E. Saunders, Suite 2</td>\n",
       "      <td>2007</td>\n",
       "      <td>78</td>\n",
       "      <td>1</td>\n",
       "      <td>0</td>\n",
       "      <td>1</td>\n",
       "      <td>0</td>\n",
       "      <td>0</td>\n",
       "      <td>2</td>\n",
       "      <td>0</td>\n",
       "      <td>1</td>\n",
       "      <td>1</td>\n",
       "      <td>0</td>\n",
       "      <td>0</td>\n",
       "      <td>2</td>\n",
       "      <td>1</td>\n",
       "      <td>2</td>\n",
       "      <td>1</td>\n",
       "      <td>2</td>\n",
       "      <td>3</td>\n",
       "      <td>0</td>\n",
       "      <td>1</td>\n",
       "      <td>1</td>\n",
       "      <td>0</td>\n",
       "      <td>0</td>\n",
       "      <td>0</td>\n",
       "      <td>0</td>\n",
       "      <td>0</td>\n",
       "      <td>1</td>\n",
       "      <td>0</td>\n",
       "      <td>1</td>\n",
       "      <td>2386 E. Saunders, Suite 2                  , L...</td>\n",
       "      <td>27.530608</td>\n",
       "      <td>-99.472335</td>\n",
       "      <td>Texas</td>\n",
       "      <td>48479.0</td>\n",
       "      <td>4.847900e+14</td>\n",
       "      <td>0</td>\n",
       "      <td>0.0</td>\n",
       "      <td>1.0</td>\n",
       "      <td>0.0</td>\n",
       "      <td>0.0</td>\n",
       "      <td>NaN</td>\n",
       "      <td>0.0</td>\n",
       "      <td>('27.530608', '-99.472335')</td>\n",
       "      <td>0.0</td>\n",
       "    </tr>\n",
       "    <tr>\n",
       "      <th>1</th>\n",
       "      <td>1</td>\n",
       "      <td>2</td>\n",
       "      <td>7</td>\n",
       "      <td>19646</td>\n",
       "      <td>FL</td>\n",
       "      <td>Jacksonville</td>\n",
       "      <td>2671 Huffman Blvd</td>\n",
       "      <td>2011</td>\n",
       "      <td>365</td>\n",
       "      <td>0</td>\n",
       "      <td>0</td>\n",
       "      <td>1</td>\n",
       "      <td>0</td>\n",
       "      <td>0</td>\n",
       "      <td>0</td>\n",
       "      <td>0</td>\n",
       "      <td>2</td>\n",
       "      <td>1</td>\n",
       "      <td>1</td>\n",
       "      <td>0</td>\n",
       "      <td>0</td>\n",
       "      <td>1</td>\n",
       "      <td>2</td>\n",
       "      <td>0</td>\n",
       "      <td>0</td>\n",
       "      <td>1</td>\n",
       "      <td>0</td>\n",
       "      <td>1</td>\n",
       "      <td>1</td>\n",
       "      <td>0</td>\n",
       "      <td>0</td>\n",
       "      <td>1</td>\n",
       "      <td>0</td>\n",
       "      <td>0</td>\n",
       "      <td>0</td>\n",
       "      <td>0</td>\n",
       "      <td>1</td>\n",
       "      <td>2671 Huffman Blvd                          , J...</td>\n",
       "      <td>30.298713</td>\n",
       "      <td>-81.504950</td>\n",
       "      <td>Florida</td>\n",
       "      <td>12031.0</td>\n",
       "      <td>1.203101e+14</td>\n",
       "      <td>0</td>\n",
       "      <td>0.0</td>\n",
       "      <td>0.0</td>\n",
       "      <td>0.0</td>\n",
       "      <td>0.0</td>\n",
       "      <td>NaN</td>\n",
       "      <td>0.0</td>\n",
       "      <td>('30.298712599999998', '-81.50495040000001')</td>\n",
       "      <td>0.0</td>\n",
       "    </tr>\n",
       "    <tr>\n",
       "      <th>2</th>\n",
       "      <td>2</td>\n",
       "      <td>3</td>\n",
       "      <td>8</td>\n",
       "      <td>11738</td>\n",
       "      <td>TX</td>\n",
       "      <td>San Antonio</td>\n",
       "      <td>7703 Floyd Curl Drive</td>\n",
       "      <td>2008</td>\n",
       "      <td>188</td>\n",
       "      <td>0</td>\n",
       "      <td>0</td>\n",
       "      <td>1</td>\n",
       "      <td>0</td>\n",
       "      <td>0</td>\n",
       "      <td>0</td>\n",
       "      <td>0</td>\n",
       "      <td>0</td>\n",
       "      <td>0</td>\n",
       "      <td>0</td>\n",
       "      <td>0</td>\n",
       "      <td>1</td>\n",
       "      <td>2</td>\n",
       "      <td>2</td>\n",
       "      <td>0</td>\n",
       "      <td>0</td>\n",
       "      <td>2</td>\n",
       "      <td>0</td>\n",
       "      <td>1</td>\n",
       "      <td>0</td>\n",
       "      <td>0</td>\n",
       "      <td>0</td>\n",
       "      <td>0</td>\n",
       "      <td>0</td>\n",
       "      <td>0</td>\n",
       "      <td>1</td>\n",
       "      <td>0</td>\n",
       "      <td>1</td>\n",
       "      <td>7703 Floyd Curl Drive                      , S...</td>\n",
       "      <td>29.513085</td>\n",
       "      <td>-98.577729</td>\n",
       "      <td>Texas</td>\n",
       "      <td>48029.0</td>\n",
       "      <td>4.802918e+14</td>\n",
       "      <td>0</td>\n",
       "      <td>0.0</td>\n",
       "      <td>0.0</td>\n",
       "      <td>0.0</td>\n",
       "      <td>0.0</td>\n",
       "      <td>NaN</td>\n",
       "      <td>0.0</td>\n",
       "      <td>('29.5130847', '-98.57772890000001')</td>\n",
       "      <td>0.0</td>\n",
       "    </tr>\n",
       "    <tr>\n",
       "      <th>3</th>\n",
       "      <td>3</td>\n",
       "      <td>7</td>\n",
       "      <td>13</td>\n",
       "      <td>13054</td>\n",
       "      <td>AZ</td>\n",
       "      <td>Tucson</td>\n",
       "      <td>P.O. Box 3308</td>\n",
       "      <td>2007</td>\n",
       "      <td>365</td>\n",
       "      <td>0</td>\n",
       "      <td>0</td>\n",
       "      <td>1</td>\n",
       "      <td>1</td>\n",
       "      <td>1</td>\n",
       "      <td>2</td>\n",
       "      <td>0</td>\n",
       "      <td>0</td>\n",
       "      <td>1</td>\n",
       "      <td>1</td>\n",
       "      <td>1</td>\n",
       "      <td>2</td>\n",
       "      <td>2</td>\n",
       "      <td>2</td>\n",
       "      <td>0</td>\n",
       "      <td>1</td>\n",
       "      <td>3</td>\n",
       "      <td>0</td>\n",
       "      <td>0</td>\n",
       "      <td>0</td>\n",
       "      <td>0</td>\n",
       "      <td>0</td>\n",
       "      <td>0</td>\n",
       "      <td>1</td>\n",
       "      <td>0</td>\n",
       "      <td>0</td>\n",
       "      <td>0</td>\n",
       "      <td>1</td>\n",
       "      <td>P.O. Box 3308                              , T...</td>\n",
       "      <td>32.225221</td>\n",
       "      <td>-110.909508</td>\n",
       "      <td>Arizona</td>\n",
       "      <td>4019.0</td>\n",
       "      <td>4.019002e+13</td>\n",
       "      <td>0</td>\n",
       "      <td>0.0</td>\n",
       "      <td>0.0</td>\n",
       "      <td>0.0</td>\n",
       "      <td>0.0</td>\n",
       "      <td>NaN</td>\n",
       "      <td>1.0</td>\n",
       "      <td>('32.225221000000005', '-110.909508')</td>\n",
       "      <td>0.0</td>\n",
       "    </tr>\n",
       "    <tr>\n",
       "      <th>4</th>\n",
       "      <td>4</td>\n",
       "      <td>10</td>\n",
       "      <td>16</td>\n",
       "      <td>15206</td>\n",
       "      <td>MA</td>\n",
       "      <td>Cambridge</td>\n",
       "      <td>349 Broadway</td>\n",
       "      <td>2008</td>\n",
       "      <td>337</td>\n",
       "      <td>0</td>\n",
       "      <td>1</td>\n",
       "      <td>1</td>\n",
       "      <td>0</td>\n",
       "      <td>0</td>\n",
       "      <td>2</td>\n",
       "      <td>0</td>\n",
       "      <td>2</td>\n",
       "      <td>0</td>\n",
       "      <td>0</td>\n",
       "      <td>0</td>\n",
       "      <td>0</td>\n",
       "      <td>1</td>\n",
       "      <td>2</td>\n",
       "      <td>0</td>\n",
       "      <td>0</td>\n",
       "      <td>1</td>\n",
       "      <td>1</td>\n",
       "      <td>1</td>\n",
       "      <td>1</td>\n",
       "      <td>0</td>\n",
       "      <td>0</td>\n",
       "      <td>0</td>\n",
       "      <td>1</td>\n",
       "      <td>0</td>\n",
       "      <td>0</td>\n",
       "      <td>0</td>\n",
       "      <td>2</td>\n",
       "      <td>349 Broadway                               , C...</td>\n",
       "      <td>42.370383</td>\n",
       "      <td>-71.103350</td>\n",
       "      <td>Massachusetts</td>\n",
       "      <td>25017.0</td>\n",
       "      <td>2.501735e+14</td>\n",
       "      <td>0</td>\n",
       "      <td>0.0</td>\n",
       "      <td>0.0</td>\n",
       "      <td>0.0</td>\n",
       "      <td>0.0</td>\n",
       "      <td>NaN</td>\n",
       "      <td>0.0</td>\n",
       "      <td>('42.3703833', '-71.1033498')</td>\n",
       "      <td>0.0</td>\n",
       "    </tr>\n",
       "  </tbody>\n",
       "</table>\n",
       "</div>"
      ],
      "text/plain": [
       "   Unnamed: 0  Unnamed: 0.1  Unnamed: 0.1.1     ID State          City  \\\n",
       "0           0             1               6  11520    TX        Laredo   \n",
       "1           1             2               7  19646    FL  Jacksonville   \n",
       "2           2             3               8  11738    TX   San Antonio   \n",
       "3           3             7              13  13054    AZ        Tucson   \n",
       "4           4            10              16  15206    MA     Cambridge   \n",
       "\n",
       "                                       agyaddr  xobsyr_0  Illicit_Days  \\\n",
       "0  2386 E. Saunders, Suite 2                        2007            78   \n",
       "1  2671 Huffman Blvd                                2011           365   \n",
       "2  7703 Floyd Curl Drive                            2008           188   \n",
       "3  P.O. Box 3308                                    2007           365   \n",
       "4  349 Broadway                                     2008           337   \n",
       "\n",
       "   Illicit_Cens  female  nonwhite  unemplmt_cd  prsatx_cd  gvsg_cd  CWSg_0_cd  \\\n",
       "0             1       0         1            0          0        2          0   \n",
       "1             0       0         1            0          0        0          0   \n",
       "2             0       0         1            0          0        0          0   \n",
       "3             0       0         1            1          1        2          0   \n",
       "4             0       1         1            0          0        2          0   \n",
       "\n",
       "   dssg_0_cd  epsg_0_cd  adhdg_0_cd  cdsg_0_cd  cjsig_0_cd  lrig_0_cd  \\\n",
       "0          1          1           0          0           2          1   \n",
       "1          2          1           1          0           0          1   \n",
       "2          0          0           0          0           1          2   \n",
       "3          0          1           1          1           2          2   \n",
       "4          2          0           0          0           0          1   \n",
       "\n",
       "   srig_0_cd  SESg_0_cd  r4ag_0_cd  SUDSy_0_cd  homeless_0_cd  ncar_cd  \\\n",
       "0          2          1          2           3              0        1   \n",
       "1          2          0          0           1              0        1   \n",
       "2          2          0          0           2              0        1   \n",
       "3          2          0          1           3              0        0   \n",
       "4          2          0          0           1              1        1   \n",
       "\n",
       "   TRIg_0_cd  PYS9Sxg_cd  primsev_other  primsev_alcohol  \\\n",
       "0          1           0              0                0   \n",
       "1          1           0              0                1   \n",
       "2          0           0              0                0   \n",
       "3          0           0              0                0   \n",
       "4          1           0              0                0   \n",
       "\n",
       "   primsev_amphetamines  primsev_cocaine  primsev_marijuana  primsev_opioids  \\\n",
       "0                     0                0                  1                0   \n",
       "1                     0                0                  0                0   \n",
       "2                     0                0                  1                0   \n",
       "3                     1                0                  0                0   \n",
       "4                     1                0                  0                0   \n",
       "\n",
       "   B2a_0g                                            Address        lat  \\\n",
       "0       1  2386 E. Saunders, Suite 2                  , L...  27.530608   \n",
       "1       1  2671 Huffman Blvd                          , J...  30.298713   \n",
       "2       1  7703 Floyd Curl Drive                      , S...  29.513085   \n",
       "3       1  P.O. Box 3308                              , T...  32.225221   \n",
       "4       2  349 Broadway                               , C...  42.370383   \n",
       "\n",
       "          lng     state_name  county_FIPS    block_FIPS  murder_numg  \\\n",
       "0  -99.472335          Texas      48479.0  4.847900e+14            0   \n",
       "1  -81.504950        Florida      12031.0  1.203101e+14            0   \n",
       "2  -98.577729          Texas      48029.0  4.802918e+14            0   \n",
       "3 -110.909508        Arizona       4019.0  4.019002e+13            0   \n",
       "4  -71.103350  Massachusetts      25017.0  2.501735e+14            0   \n",
       "\n",
       "   %_dropoutg  %_povertyg  %_public_assistanceg  %_unemployedg closest  gran  \\\n",
       "0         0.0         1.0                   0.0            0.0     NaN   0.0   \n",
       "1         0.0         0.0                   0.0            0.0     NaN   0.0   \n",
       "2         0.0         0.0                   0.0            0.0     NaN   0.0   \n",
       "3         0.0         0.0                   0.0            0.0     NaN   1.0   \n",
       "4         0.0         0.0                   0.0            0.0     NaN   0.0   \n",
       "\n",
       "                                          point  pop_deng  \n",
       "0                   ('27.530608', '-99.472335')       0.0  \n",
       "1  ('30.298712599999998', '-81.50495040000001')       0.0  \n",
       "2          ('29.5130847', '-98.57772890000001')       0.0  \n",
       "3         ('32.225221000000005', '-110.909508')       0.0  \n",
       "4                 ('42.3703833', '-71.1033498')       0.0  "
      ]
     },
     "execution_count": 5,
     "metadata": {},
     "output_type": "execute_result"
    }
   ],
   "source": [
    "import pandas as pd\n",
    "pd.set_option('display.max_rows', 500)\n",
    "pd.set_option('display.max_columns', 500)\n",
    "import csv\n",
    "\n",
    "df = pd.read_csv('../data/data_superset.csv')\n",
    "df.head()"
   ]
  },
  {
   "cell_type": "code",
   "execution_count": 6,
   "metadata": {},
   "outputs": [
    {
     "data": {
      "text/plain": [
       "(10683, 32)"
      ]
     },
     "execution_count": 6,
     "metadata": {},
     "output_type": "execute_result"
    }
   ],
   "source": [
    "# drop unnecessary columns\n",
    "cols_to_drop = ['Address','lat','lng','xobsyr_0','Unnamed: 0','Unnamed: 0.1','Unnamed: 0.1.1',\n",
    "                'ID','State','City','agyaddr','state_name','gran','county_FIPS','block_FIPS',\n",
    "                'point','closest','%_public_assistanceg','%_dropoutg','%_unemployedg']\n",
    "\n",
    "df.drop(columns=cols_to_drop, inplace=True)\n",
    "df.dropna(inplace=True) # drops any remaining rows with null values\n",
    "\n",
    "# uncomment to get CONTROL statistics\n",
    "#cols_to_drop = ['pop_deng','%_dropoutg','%_unemployedg','%_public_assistanceg','%_povertyg','murder_numg']\n",
    "#df.drop(columns=cols_to_drop, inplace=True)\n",
    "\n",
    "df = df.astype(int)\n",
    "df = df.sample(frac=1).reset_index(drop=True) # shuffle rows\n",
    "df.shape"
   ]
  },
  {
   "cell_type": "markdown",
   "metadata": {},
   "source": [
    "Subclinical Feature Importance"
   ]
  },
  {
   "cell_type": "code",
   "execution_count": 7,
   "metadata": {},
   "outputs": [
    {
     "name": "stdout",
     "output_type": "stream",
     "text": [
      "(3365, 29) (3365,)\n"
     ]
    },
    {
     "name": "stderr",
     "output_type": "stream",
     "text": [
      "//anaconda3/lib/python3.7/site-packages/pandas/core/frame.py:4097: SettingWithCopyWarning: \n",
      "A value is trying to be set on a copy of a slice from a DataFrame\n",
      "\n",
      "See the caveats in the documentation: http://pandas.pydata.org/pandas-docs/stable/user_guide/indexing.html#returning-a-view-versus-a-copy\n",
      "  errors=errors,\n"
     ]
    }
   ],
   "source": [
    "from sksurv.util import Surv\n",
    "\n",
    "predictor_var = 'Illicit_Days'\n",
    "censoring_var = 'Illicit_Cens'\n",
    "\n",
    "X = df[df.SUDSy_0_cd == 1]\n",
    "Y = X[[censoring_var, predictor_var]]\n",
    "X.drop(columns=[censoring_var, predictor_var, 'SUDSy_0_cd'], inplace=True)\n",
    "\n",
    "y = Surv.from_arrays(Y[censoring_var], Y[predictor_var]) # structured array to ensure correct censoring\n",
    "\n",
    "print(X.shape, y.shape)"
   ]
  },
  {
   "cell_type": "code",
   "execution_count": 8,
   "metadata": {},
   "outputs": [
    {
     "data": {
      "application/vnd.jupyter.widget-view+json": {
       "model_id": "66f36b81ee864a5e8e60d9bc5cf6e26c",
       "version_major": 2,
       "version_minor": 0
      },
      "text/plain": [
       "HBox(children=(IntProgress(value=0, max=29), HTML(value='')))"
      ]
     },
     "metadata": {},
     "output_type": "display_data"
    },
    {
     "name": "stdout",
     "output_type": "stream",
     "text": [
      "\n",
      "Ordering of Features: ['r4ag_0_cd', 'murder_numg', 'B2a_0g', 'ncar_cd', 'primsev_cocaine', 'primsev_other', 'PYS9Sxg_cd', 'unemplmt_cd', '%_povertyg', 'nonwhite', 'primsev_opioids', 'primsev_marijuana', 'female', 'cjsig_0_cd', 'CWSg_0_cd', 'adhdg_0_cd', 'SESg_0_cd', 'prsatx_cd', 'cdsg_0_cd', 'homeless_0_cd', 'TRIg_0_cd', 'pop_deng', 'gvsg_cd', 'primsev_amphetamines', 'primsev_alcohol', 'epsg_0_cd', 'srig_0_cd', 'dssg_0_cd', 'lrig_0_cd']\n",
      "CPU times: user 20min 14s, sys: 1min 2s, total: 21min 16s\n",
      "Wall time: 21min 23s\n"
     ]
    },
    {
     "data": {
      "image/png": "[encoded data removed]",
      "text/plain": [
       "<Figure size 432x288 with 1 Axes>"
      ]
     },
     "metadata": {
      "needs_background": "light"
     },
     "output_type": "display_data"
    }
   ],
   "source": [
    "%%time\n",
    "rsf = RandomSurvivalForest()\n",
    "forward_feature_selection(rsf, X, y, 'Forward Feature Selection: Subclinical')"
   ]
  },
  {
   "cell_type": "code",
   "execution_count": 9,
   "metadata": {},
   "outputs": [
    {
     "data": {
      "application/vnd.jupyter.widget-view+json": {
       "model_id": "f7fc275fcbc04177b3881bd8b7d4df1c",
       "version_major": 2,
       "version_minor": 0
      },
      "text/plain": [
       "HBox(children=(IntProgress(value=0, max=28), HTML(value='')))"
      ]
     },
     "metadata": {},
     "output_type": "display_data"
    },
    {
     "name": "stdout",
     "output_type": "stream",
     "text": [
      "\n",
      "Ordering of Features: ['B2a_0g', 'murder_numg', 'ncar_cd', 'r4ag_0_cd', 'cjsig_0_cd', 'female', '%_povertyg', 'prsatx_cd', 'TRIg_0_cd', 'SESg_0_cd', 'adhdg_0_cd', 'CWSg_0_cd', 'gvsg_cd', 'primsev_amphetamines', 'primsev_opioids', 'primsev_alcohol', 'unemplmt_cd', 'pop_deng', 'homeless_0_cd', 'dssg_0_cd', 'primsev_other', 'srig_0_cd', 'nonwhite', 'primsev_cocaine', 'primsev_marijuana', 'epsg_0_cd', 'lrig_0_cd', 'PYS9Sxg_cd', 'cdsg_0_cd']\n",
      "CPU times: user 32min 47s, sys: 2min 14s, total: 35min 1s\n",
      "Wall time: 35min 11s\n"
     ]
    },
    {
     "data": {
      "image/png": "[encoded data removed]",
      "text/plain": [
       "<Figure size 432x288 with 1 Axes>"
      ]
     },
     "metadata": {
      "needs_background": "light"
     },
     "output_type": "display_data"
    }
   ],
   "source": [
    "%%time\n",
    "rsf = RandomSurvivalForest()\n",
    "backward_feature_selection(rsf, X, y, 'Backward Feature Selection: Subclinical')"
   ]
  },
  {
   "cell_type": "markdown",
   "metadata": {},
   "source": [
    "Mild Feature Importance"
   ]
  },
  {
   "cell_type": "code",
   "execution_count": 10,
   "metadata": {},
   "outputs": [
    {
     "name": "stdout",
     "output_type": "stream",
     "text": [
      "(2964, 29) (2964,)\n"
     ]
    },
    {
     "name": "stderr",
     "output_type": "stream",
     "text": [
      "//anaconda3/lib/python3.7/site-packages/pandas/core/frame.py:4097: SettingWithCopyWarning: \n",
      "A value is trying to be set on a copy of a slice from a DataFrame\n",
      "\n",
      "See the caveats in the documentation: http://pandas.pydata.org/pandas-docs/stable/user_guide/indexing.html#returning-a-view-versus-a-copy\n",
      "  errors=errors,\n"
     ]
    }
   ],
   "source": [
    "X = df[df.SUDSy_0_cd == 2]\n",
    "Y = X[[censoring_var, predictor_var]]\n",
    "X.drop(columns=[censoring_var, predictor_var, 'SUDSy_0_cd'], inplace=True)\n",
    "\n",
    "y = Surv.from_arrays(Y[censoring_var], Y[predictor_var]) # structured array to ensure correct censoring\n",
    "\n",
    "print(X.shape, y.shape)"
   ]
  },
  {
   "cell_type": "code",
   "execution_count": 11,
   "metadata": {},
   "outputs": [
    {
     "data": {
      "application/vnd.jupyter.widget-view+json": {
       "model_id": "62ae7fa906594393a7897a1d88cc8386",
       "version_major": 2,
       "version_minor": 0
      },
      "text/plain": [
       "HBox(children=(IntProgress(value=0, max=29), HTML(value='')))"
      ]
     },
     "metadata": {},
     "output_type": "display_data"
    },
    {
     "name": "stdout",
     "output_type": "stream",
     "text": [
      "\n",
      "Ordering of Features: ['r4ag_0_cd', 'cjsig_0_cd', 'adhdg_0_cd', 'PYS9Sxg_cd', 'primsev_amphetamines', 'pop_deng', 'murder_numg', 'primsev_other', 'primsev_opioids', 'gvsg_cd', 'prsatx_cd', 'primsev_alcohol', 'primsev_cocaine', 'SESg_0_cd', 'unemplmt_cd', 'B2a_0g', 'TRIg_0_cd', '%_povertyg', 'female', 'nonwhite', 'homeless_0_cd', 'primsev_marijuana', 'CWSg_0_cd', 'ncar_cd', 'lrig_0_cd', 'cdsg_0_cd', 'srig_0_cd', 'epsg_0_cd', 'dssg_0_cd']\n",
      "CPU times: user 20min 50s, sys: 1min 12s, total: 22min 3s\n",
      "Wall time: 22min 9s\n"
     ]
    },
    {
     "data": {
      "image/png": "[encoded data removed]",
      "text/plain": [
       "<Figure size 432x288 with 1 Axes>"
      ]
     },
     "metadata": {
      "needs_background": "light"
     },
     "output_type": "display_data"
    }
   ],
   "source": [
    "%%time\n",
    "rsf = RandomSurvivalForest()\n",
    "forward_feature_selection(rsf, X, y, 'Forward Feature Selection: Mild')"
   ]
  },
  {
   "cell_type": "code",
   "execution_count": 12,
   "metadata": {},
   "outputs": [
    {
     "data": {
      "application/vnd.jupyter.widget-view+json": {
       "model_id": "cf3685e493a0478f9a526fe5fb6df76a",
       "version_major": 2,
       "version_minor": 0
      },
      "text/plain": [
       "HBox(children=(IntProgress(value=0, max=28), HTML(value='')))"
      ]
     },
     "metadata": {},
     "output_type": "display_data"
    },
    {
     "name": "stdout",
     "output_type": "stream",
     "text": [
      "\n",
      "Ordering of Features: ['r4ag_0_cd', 'cjsig_0_cd', 'PYS9Sxg_cd', 'murder_numg', 'pop_deng', 'B2a_0g', 'ncar_cd', 'primsev_amphetamines', 'gvsg_cd', 'lrig_0_cd', 'primsev_alcohol', 'unemplmt_cd', 'homeless_0_cd', 'female', 'adhdg_0_cd', 'prsatx_cd', 'primsev_other', 'primsev_marijuana', 'primsev_opioids', 'primsev_cocaine', '%_povertyg', 'nonwhite', 'srig_0_cd', 'cdsg_0_cd', 'CWSg_0_cd', 'dssg_0_cd', 'epsg_0_cd', 'SESg_0_cd', 'TRIg_0_cd']\n",
      "CPU times: user 29min 40s, sys: 2min 13s, total: 31min 54s\n",
      "Wall time: 31min 58s\n"
     ]
    },
    {
     "data": {
      "image/png": "[encoded data removed]",
      "text/plain": [
       "<Figure size 432x288 with 1 Axes>"
      ]
     },
     "metadata": {
      "needs_background": "light"
     },
     "output_type": "display_data"
    }
   ],
   "source": [
    "%%time\n",
    "rsf = RandomSurvivalForest()\n",
    "backward_feature_selection(rsf, X, y, 'Backward Feature Selection: Mild')"
   ]
  },
  {
   "cell_type": "markdown",
   "metadata": {},
   "source": [
    "Severe Feature Importance"
   ]
  },
  {
   "cell_type": "code",
   "execution_count": 13,
   "metadata": {},
   "outputs": [
    {
     "name": "stdout",
     "output_type": "stream",
     "text": [
      "(4354, 29) (4354,)\n"
     ]
    },
    {
     "name": "stderr",
     "output_type": "stream",
     "text": [
      "//anaconda3/lib/python3.7/site-packages/pandas/core/frame.py:4097: SettingWithCopyWarning: \n",
      "A value is trying to be set on a copy of a slice from a DataFrame\n",
      "\n",
      "See the caveats in the documentation: http://pandas.pydata.org/pandas-docs/stable/user_guide/indexing.html#returning-a-view-versus-a-copy\n",
      "  errors=errors,\n"
     ]
    }
   ],
   "source": [
    "X = df[df.SUDSy_0_cd == 3]\n",
    "Y = X[[censoring_var, predictor_var]]\n",
    "X.drop(columns=[censoring_var, predictor_var, 'SUDSy_0_cd'], inplace=True)\n",
    "\n",
    "y = Surv.from_arrays(Y[censoring_var], Y[predictor_var]) # structured array to ensure correct censoring\n",
    "\n",
    "print(X.shape, y.shape)"
   ]
  },
  {
   "cell_type": "code",
   "execution_count": 14,
   "metadata": {},
   "outputs": [
    {
     "data": {
      "application/vnd.jupyter.widget-view+json": {
       "model_id": "948901f87bae4dd4b20f4d67bfa350aa",
       "version_major": 2,
       "version_minor": 0
      },
      "text/plain": [
       "HBox(children=(IntProgress(value=0, max=29), HTML(value='')))"
      ]
     },
     "metadata": {},
     "output_type": "display_data"
    },
    {
     "name": "stdout",
     "output_type": "stream",
     "text": [
      "\n",
      "Ordering of Features: ['dssg_0_cd', 'r4ag_0_cd', 'primsev_opioids', 'B2a_0g', 'pop_deng', 'primsev_alcohol', 'murder_numg', 'primsev_other', '%_povertyg', 'PYS9Sxg_cd', 'unemplmt_cd', 'ncar_cd', 'SESg_0_cd', 'primsev_amphetamines', 'nonwhite', 'cjsig_0_cd', 'CWSg_0_cd', 'homeless_0_cd', 'female', 'primsev_cocaine', 'prsatx_cd', 'TRIg_0_cd', 'srig_0_cd', 'primsev_marijuana', 'lrig_0_cd', 'epsg_0_cd', 'gvsg_cd', 'adhdg_0_cd', 'cdsg_0_cd']\n",
      "CPU times: user 30min 50s, sys: 2min 35s, total: 33min 25s\n",
      "Wall time: 34min 49s\n"
     ]
    },
    {
     "data": {
      "image/png": "[encoded data removed]",
      "text/plain": [
       "<Figure size 432x288 with 1 Axes>"
      ]
     },
     "metadata": {
      "needs_background": "light"
     },
     "output_type": "display_data"
    }
   ],
   "source": [
    "%%time\n",
    "rsf = RandomSurvivalForest()\n",
    "forward_feature_selection(rsf, X, y, 'Forward Feature Selection: Severe')"
   ]
  },
  {
   "cell_type": "code",
   "execution_count": 15,
   "metadata": {},
   "outputs": [
    {
     "data": {
      "application/vnd.jupyter.widget-view+json": {
       "model_id": "96223fa7258745b99b1d957447e40780",
       "version_major": 2,
       "version_minor": 0
      },
      "text/plain": [
       "HBox(children=(IntProgress(value=0, max=28), HTML(value='')))"
      ]
     },
     "metadata": {},
     "output_type": "display_data"
    },
    {
     "name": "stdout",
     "output_type": "stream",
     "text": [
      "\n",
      "Ordering of Features: ['r4ag_0_cd', 'PYS9Sxg_cd', 'B2a_0g', '%_povertyg', 'SESg_0_cd', 'primsev_opioids', 'primsev_other', 'primsev_amphetamines', 'nonwhite', 'unemplmt_cd', 'dssg_0_cd', 'pop_deng', 'srig_0_cd', 'murder_numg', 'primsev_alcohol', 'female', 'primsev_cocaine', 'primsev_marijuana', 'lrig_0_cd', 'CWSg_0_cd', 'homeless_0_cd', 'TRIg_0_cd', 'gvsg_cd', 'adhdg_0_cd', 'cdsg_0_cd', 'epsg_0_cd', 'ncar_cd', 'prsatx_cd', 'cjsig_0_cd']\n",
      "CPU times: user 46min 37s, sys: 4min 38s, total: 51min 16s\n",
      "Wall time: 54min 4s\n"
     ]
    },
    {
     "data": {
      "image/png": "[encoded data removed]",
      "text/plain": [
       "<Figure size 432x288 with 1 Axes>"
      ]
     },
     "metadata": {
      "needs_background": "light"
     },
     "output_type": "display_data"
    }
   ],
   "source": [
    "%%time\n",
    "rsf = RandomSurvivalForest()\n",
    "backward_feature_selection(rsf, X, y, 'Backward Feature Selection: Severe')"
   ]
  },
  {
   "cell_type": "code",
   "execution_count": 17,
   "metadata": {},
   "outputs": [
    {
     "name": "stdout",
     "output_type": "stream",
     "text": [
      "--- 10 hours 600 minutes 44 seconds ---\n"
     ]
    }
   ],
   "source": [
    "# print out total notebook execution time\n",
    "total_seconds = int(time.time() - start_time)\n",
    "hours = total_seconds // (60 * 60)\n",
    "minutes = (total_seconds - hours*60) // 60\n",
    "seconds = (total_seconds - hours*60) % 60\n",
    "print(\"--- \" + str(hours) + \" hours \" + str(minutes) + \" minutes \" + str(seconds) + \" seconds ---\")"
   ]
  },
  {
   "cell_type": "code",
   "execution_count": 18,
   "metadata": {},
   "outputs": [
    {
     "name": "stderr",
     "output_type": "stream",
     "text": [
      "[NbConvertApp] Converting notebook ./feature_selection.ipynb to html\n",
      "[NbConvertApp] Writing 434026 bytes to ./feature_selection.html\n"
     ]
    }
   ],
   "source": [
    "%%bash\n",
    "jupyter nbconvert --to html ./feature_selection.ipynb"
   ]
  },
  {
   "cell_type": "code",
   "execution_count": null,
   "metadata": {},
   "outputs": [],
   "source": []
  }
 ],
 "metadata": {
  "kernelspec": {
   "display_name": "Python 3",
   "language": "python",
   "name": "python3"
  },
  "language_info": {
   "codemirror_mode": {
    "name": "ipython",
    "version": 3
   },
   "file_extension": ".py",
   "mimetype": "text/x-python",
   "name": "python",
   "nbconvert_exporter": "python",
   "pygments_lexer": "ipython3",
   "version": "3.7.3"
  }
 },
 "nbformat": 4,
 "nbformat_minor": 2
}
